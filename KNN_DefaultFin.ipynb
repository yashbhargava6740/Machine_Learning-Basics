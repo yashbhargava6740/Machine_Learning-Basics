{
  "nbformat": 4,
  "nbformat_minor": 0,
  "metadata": {
    "colab": {
      "provenance": [],
      "collapsed_sections": []
    },
    "kernelspec": {
      "name": "python3",
      "display_name": "Python 3"
    },
    "language_info": {
      "name": "python"
    }
  },
  "cells": [
    {
      "cell_type": "code",
      "execution_count": null,
      "metadata": {
        "id": "v3Bbx0TpKIRd"
      },
      "outputs": [],
      "source": [
        "import numpy as np\n",
        "import pandas as pd\n",
        "import sklearn\n",
        "import matplotlib.pyplot as plt\n",
        "from sklearn.metrics import r2_score, mean_squared_error\n",
        "from math import sqrt"
      ]
    },
    {
      "cell_type": "code",
      "source": [
        "from google.colab import drive\n",
        "drive.mount('/content/drive')"
      ],
      "metadata": {
        "colab": {
          "base_uri": "https://localhost:8080/"
        },
        "id": "xX_qDpB0kRoD",
        "outputId": "8728cc98-1d90-465b-ea2d-000b8ba2ce6b"
      },
      "execution_count": null,
      "outputs": [
        {
          "output_type": "stream",
          "name": "stdout",
          "text": [
            "Drive already mounted at /content/drive; to attempt to forcibly remount, call drive.mount(\"/content/drive\", force_remount=True).\n"
          ]
        }
      ]
    },
    {
      "cell_type": "code",
      "source": [
        "boss = pd.read_csv(\"/content/drive/MyDrive/USA_Housing.csv\")"
      ],
      "metadata": {
        "id": "Y2J3Akh5KVgx"
      },
      "execution_count": null,
      "outputs": []
    },
    {
      "cell_type": "code",
      "source": [
        "boss.head()"
      ],
      "metadata": {
        "colab": {
          "base_uri": "https://localhost:8080/",
          "height": 320
        },
        "id": "5qkGfxSC92Kl",
        "outputId": "72afbb61-8015-4eb0-d0a3-689d33159b12"
      },
      "execution_count": null,
      "outputs": [
        {
          "output_type": "execute_result",
          "data": {
            "text/plain": [
              "   Avg. Area Income  Avg. Area House Age  Avg. Area Number of Rooms  \\\n",
              "0      79545.458574             5.682861                   7.009188   \n",
              "1      79248.642455             6.002900                   6.730821   \n",
              "2      61287.067179             5.865890                   8.512727   \n",
              "3      63345.240046             7.188236                   5.586729   \n",
              "4      59982.197226             5.040555                   7.839388   \n",
              "\n",
              "   Avg. Area Number of Bedrooms  Area Population         Price  \\\n",
              "0                          4.09     23086.800503  1.059034e+06   \n",
              "1                          3.09     40173.072174  1.505891e+06   \n",
              "2                          5.13     36882.159400  1.058988e+06   \n",
              "3                          3.26     34310.242831  1.260617e+06   \n",
              "4                          4.23     26354.109472  6.309435e+05   \n",
              "\n",
              "                                             Address  \n",
              "0  208 Michael Ferry Apt. 674\\nLaurabury, NE 3701...  \n",
              "1  188 Johnson Views Suite 079\\nLake Kathleen, CA...  \n",
              "2  9127 Elizabeth Stravenue\\nDanieltown, WI 06482...  \n",
              "3                          USS Barnett\\nFPO AP 44820  \n",
              "4                         USNS Raymond\\nFPO AE 09386  "
            ],
            "text/html": [
              "\n",
              "  <div id=\"df-576b6088-7452-4627-83a8-9b833338f2fc\">\n",
              "    <div class=\"colab-df-container\">\n",
              "      <div>\n",
              "<style scoped>\n",
              "    .dataframe tbody tr th:only-of-type {\n",
              "        vertical-align: middle;\n",
              "    }\n",
              "\n",
              "    .dataframe tbody tr th {\n",
              "        vertical-align: top;\n",
              "    }\n",
              "\n",
              "    .dataframe thead th {\n",
              "        text-align: right;\n",
              "    }\n",
              "</style>\n",
              "<table border=\"1\" class=\"dataframe\">\n",
              "  <thead>\n",
              "    <tr style=\"text-align: right;\">\n",
              "      <th></th>\n",
              "      <th>Avg. Area Income</th>\n",
              "      <th>Avg. Area House Age</th>\n",
              "      <th>Avg. Area Number of Rooms</th>\n",
              "      <th>Avg. Area Number of Bedrooms</th>\n",
              "      <th>Area Population</th>\n",
              "      <th>Price</th>\n",
              "      <th>Address</th>\n",
              "    </tr>\n",
              "  </thead>\n",
              "  <tbody>\n",
              "    <tr>\n",
              "      <th>0</th>\n",
              "      <td>79545.458574</td>\n",
              "      <td>5.682861</td>\n",
              "      <td>7.009188</td>\n",
              "      <td>4.09</td>\n",
              "      <td>23086.800503</td>\n",
              "      <td>1.059034e+06</td>\n",
              "      <td>208 Michael Ferry Apt. 674\\nLaurabury, NE 3701...</td>\n",
              "    </tr>\n",
              "    <tr>\n",
              "      <th>1</th>\n",
              "      <td>79248.642455</td>\n",
              "      <td>6.002900</td>\n",
              "      <td>6.730821</td>\n",
              "      <td>3.09</td>\n",
              "      <td>40173.072174</td>\n",
              "      <td>1.505891e+06</td>\n",
              "      <td>188 Johnson Views Suite 079\\nLake Kathleen, CA...</td>\n",
              "    </tr>\n",
              "    <tr>\n",
              "      <th>2</th>\n",
              "      <td>61287.067179</td>\n",
              "      <td>5.865890</td>\n",
              "      <td>8.512727</td>\n",
              "      <td>5.13</td>\n",
              "      <td>36882.159400</td>\n",
              "      <td>1.058988e+06</td>\n",
              "      <td>9127 Elizabeth Stravenue\\nDanieltown, WI 06482...</td>\n",
              "    </tr>\n",
              "    <tr>\n",
              "      <th>3</th>\n",
              "      <td>63345.240046</td>\n",
              "      <td>7.188236</td>\n",
              "      <td>5.586729</td>\n",
              "      <td>3.26</td>\n",
              "      <td>34310.242831</td>\n",
              "      <td>1.260617e+06</td>\n",
              "      <td>USS Barnett\\nFPO AP 44820</td>\n",
              "    </tr>\n",
              "    <tr>\n",
              "      <th>4</th>\n",
              "      <td>59982.197226</td>\n",
              "      <td>5.040555</td>\n",
              "      <td>7.839388</td>\n",
              "      <td>4.23</td>\n",
              "      <td>26354.109472</td>\n",
              "      <td>6.309435e+05</td>\n",
              "      <td>USNS Raymond\\nFPO AE 09386</td>\n",
              "    </tr>\n",
              "  </tbody>\n",
              "</table>\n",
              "</div>\n",
              "      <button class=\"colab-df-convert\" onclick=\"convertToInteractive('df-576b6088-7452-4627-83a8-9b833338f2fc')\"\n",
              "              title=\"Convert this dataframe to an interactive table.\"\n",
              "              style=\"display:none;\">\n",
              "        \n",
              "  <svg xmlns=\"http://www.w3.org/2000/svg\" height=\"24px\"viewBox=\"0 0 24 24\"\n",
              "       width=\"24px\">\n",
              "    <path d=\"M0 0h24v24H0V0z\" fill=\"none\"/>\n",
              "    <path d=\"M18.56 5.44l.94 2.06.94-2.06 2.06-.94-2.06-.94-.94-2.06-.94 2.06-2.06.94zm-11 1L8.5 8.5l.94-2.06 2.06-.94-2.06-.94L8.5 2.5l-.94 2.06-2.06.94zm10 10l.94 2.06.94-2.06 2.06-.94-2.06-.94-.94-2.06-.94 2.06-2.06.94z\"/><path d=\"M17.41 7.96l-1.37-1.37c-.4-.4-.92-.59-1.43-.59-.52 0-1.04.2-1.43.59L10.3 9.45l-7.72 7.72c-.78.78-.78 2.05 0 2.83L4 21.41c.39.39.9.59 1.41.59.51 0 1.02-.2 1.41-.59l7.78-7.78 2.81-2.81c.8-.78.8-2.07 0-2.86zM5.41 20L4 18.59l7.72-7.72 1.47 1.35L5.41 20z\"/>\n",
              "  </svg>\n",
              "      </button>\n",
              "      \n",
              "  <style>\n",
              "    .colab-df-container {\n",
              "      display:flex;\n",
              "      flex-wrap:wrap;\n",
              "      gap: 12px;\n",
              "    }\n",
              "\n",
              "    .colab-df-convert {\n",
              "      background-color: #E8F0FE;\n",
              "      border: none;\n",
              "      border-radius: 50%;\n",
              "      cursor: pointer;\n",
              "      display: none;\n",
              "      fill: #1967D2;\n",
              "      height: 32px;\n",
              "      padding: 0 0 0 0;\n",
              "      width: 32px;\n",
              "    }\n",
              "\n",
              "    .colab-df-convert:hover {\n",
              "      background-color: #E2EBFA;\n",
              "      box-shadow: 0px 1px 2px rgba(60, 64, 67, 0.3), 0px 1px 3px 1px rgba(60, 64, 67, 0.15);\n",
              "      fill: #174EA6;\n",
              "    }\n",
              "\n",
              "    [theme=dark] .colab-df-convert {\n",
              "      background-color: #3B4455;\n",
              "      fill: #D2E3FC;\n",
              "    }\n",
              "\n",
              "    [theme=dark] .colab-df-convert:hover {\n",
              "      background-color: #434B5C;\n",
              "      box-shadow: 0px 1px 3px 1px rgba(0, 0, 0, 0.15);\n",
              "      filter: drop-shadow(0px 1px 2px rgba(0, 0, 0, 0.3));\n",
              "      fill: #FFFFFF;\n",
              "    }\n",
              "  </style>\n",
              "\n",
              "      <script>\n",
              "        const buttonEl =\n",
              "          document.querySelector('#df-576b6088-7452-4627-83a8-9b833338f2fc button.colab-df-convert');\n",
              "        buttonEl.style.display =\n",
              "          google.colab.kernel.accessAllowed ? 'block' : 'none';\n",
              "\n",
              "        async function convertToInteractive(key) {\n",
              "          const element = document.querySelector('#df-576b6088-7452-4627-83a8-9b833338f2fc');\n",
              "          const dataTable =\n",
              "            await google.colab.kernel.invokeFunction('convertToInteractive',\n",
              "                                                     [key], {});\n",
              "          if (!dataTable) return;\n",
              "\n",
              "          const docLinkHtml = 'Like what you see? Visit the ' +\n",
              "            '<a target=\"_blank\" href=https://colab.research.google.com/notebooks/data_table.ipynb>data table notebook</a>'\n",
              "            + ' to learn more about interactive tables.';\n",
              "          element.innerHTML = '';\n",
              "          dataTable['output_type'] = 'display_data';\n",
              "          await google.colab.output.renderOutput(dataTable, element);\n",
              "          const docLink = document.createElement('div');\n",
              "          docLink.innerHTML = docLinkHtml;\n",
              "          element.appendChild(docLink);\n",
              "        }\n",
              "      </script>\n",
              "    </div>\n",
              "  </div>\n",
              "  "
            ]
          },
          "metadata": {},
          "execution_count": 37
        }
      ]
    },
    {
      "cell_type": "code",
      "source": [
        "boss.info"
      ],
      "metadata": {
        "colab": {
          "base_uri": "https://localhost:8080/"
        },
        "id": "g2lqhbq2KVet",
        "outputId": "ea81003e-823a-4310-e91f-c08fdd497c97"
      },
      "execution_count": null,
      "outputs": [
        {
          "output_type": "execute_result",
          "data": {
            "text/plain": [
              "<bound method DataFrame.info of       Avg. Area Income  Avg. Area House Age  Avg. Area Number of Rooms  \\\n",
              "0         79545.458574             5.682861                   7.009188   \n",
              "1         79248.642455             6.002900                   6.730821   \n",
              "2         61287.067179             5.865890                   8.512727   \n",
              "3         63345.240046             7.188236                   5.586729   \n",
              "4         59982.197226             5.040555                   7.839388   \n",
              "...                ...                  ...                        ...   \n",
              "4995      60567.944140             7.830362                   6.137356   \n",
              "4996      78491.275435             6.999135                   6.576763   \n",
              "4997      63390.686886             7.250591                   4.805081   \n",
              "4998      68001.331235             5.534388                   7.130144   \n",
              "4999      65510.581804             5.992305                   6.792336   \n",
              "\n",
              "      Avg. Area Number of Bedrooms  Area Population         Price  \\\n",
              "0                             4.09     23086.800503  1.059034e+06   \n",
              "1                             3.09     40173.072174  1.505891e+06   \n",
              "2                             5.13     36882.159400  1.058988e+06   \n",
              "3                             3.26     34310.242831  1.260617e+06   \n",
              "4                             4.23     26354.109472  6.309435e+05   \n",
              "...                            ...              ...           ...   \n",
              "4995                          3.46     22837.361035  1.060194e+06   \n",
              "4996                          4.02     25616.115489  1.482618e+06   \n",
              "4997                          2.13     33266.145490  1.030730e+06   \n",
              "4998                          5.44     42625.620156  1.198657e+06   \n",
              "4999                          4.07     46501.283803  1.298950e+06   \n",
              "\n",
              "                                                Address  \n",
              "0     208 Michael Ferry Apt. 674\\nLaurabury, NE 3701...  \n",
              "1     188 Johnson Views Suite 079\\nLake Kathleen, CA...  \n",
              "2     9127 Elizabeth Stravenue\\nDanieltown, WI 06482...  \n",
              "3                             USS Barnett\\nFPO AP 44820  \n",
              "4                            USNS Raymond\\nFPO AE 09386  \n",
              "...                                                 ...  \n",
              "4995                   USNS Williams\\nFPO AP 30153-7653  \n",
              "4996              PSC 9258, Box 8489\\nAPO AA 42991-3352  \n",
              "4997  4215 Tracy Garden Suite 076\\nJoshualand, VA 01...  \n",
              "4998                          USS Wallace\\nFPO AE 73316  \n",
              "4999  37778 George Ridges Apt. 509\\nEast Holly, NV 2...  \n",
              "\n",
              "[5000 rows x 7 columns]>"
            ]
          },
          "metadata": {},
          "execution_count": 38
        }
      ]
    },
    {
      "cell_type": "code",
      "source": [
        "boss.shape"
      ],
      "metadata": {
        "colab": {
          "base_uri": "https://localhost:8080/"
        },
        "id": "YNZQ9tS6LKr4",
        "outputId": "f1ba0be0-fc94-4f34-bbf0-bce506516fcc"
      },
      "execution_count": null,
      "outputs": [
        {
          "output_type": "execute_result",
          "data": {
            "text/plain": [
              "(5000, 7)"
            ]
          },
          "metadata": {},
          "execution_count": 39
        }
      ]
    },
    {
      "cell_type": "code",
      "source": [
        "boss.isna().sum()"
      ],
      "metadata": {
        "colab": {
          "base_uri": "https://localhost:8080/"
        },
        "id": "-lSRyphKLKqE",
        "outputId": "917dc762-c404-4f58-a216-8529f9dc4d8a"
      },
      "execution_count": null,
      "outputs": [
        {
          "output_type": "execute_result",
          "data": {
            "text/plain": [
              "Avg. Area Income                0\n",
              "Avg. Area House Age             0\n",
              "Avg. Area Number of Rooms       0\n",
              "Avg. Area Number of Bedrooms    0\n",
              "Area Population                 0\n",
              "Price                           0\n",
              "Address                         0\n",
              "dtype: int64"
            ]
          },
          "metadata": {},
          "execution_count": 40
        }
      ]
    },
    {
      "cell_type": "code",
      "source": [
        "from sklearn.model_selection import train_test_split\n",
        "X = boss.iloc[:, 0:5]\n",
        "y = boss['Price']\n",
        "X_train, X_test,y_train,y_test = train_test_split(X,y,test_size = 0.25, random_state = 101)"
      ],
      "metadata": {
        "id": "aZ1fPlCMLUZH"
      },
      "execution_count": null,
      "outputs": []
    },
    {
      "cell_type": "code",
      "source": [
        "X_train"
      ],
      "metadata": {
        "colab": {
          "base_uri": "https://localhost:8080/",
          "height": 424
        },
        "id": "bISp-CBr-q1m",
        "outputId": "4b0efa2b-a9b3-4bbf-9b3c-41fb1afe0aa8"
      },
      "execution_count": null,
      "outputs": [
        {
          "output_type": "execute_result",
          "data": {
            "text/plain": [
              "      Avg. Area Income  Avg. Area House Age  Avg. Area Number of Rooms  \\\n",
              "3430      72102.194650             5.146607                   7.559894   \n",
              "3979      66484.844242             5.700885                   6.908871   \n",
              "2153      78286.517912             4.236881                   7.465136   \n",
              "4764      89687.484825             5.822977                   7.475893   \n",
              "36        78667.904598             5.470652                   7.780837   \n",
              "...                ...                  ...                        ...   \n",
              "4171      56610.642563             4.846832                   7.558137   \n",
              "599       70596.850945             6.548274                   6.539986   \n",
              "1361      55621.899104             3.735942                   6.868291   \n",
              "1547      63044.460096             5.935261                   5.913454   \n",
              "4959      75078.791516             7.644779                   8.440726   \n",
              "\n",
              "      Avg. Area Number of Bedrooms  Area Population  \n",
              "3430                          3.50     18819.288593  \n",
              "3979                          3.40     28002.647094  \n",
              "2153                          5.29     42425.776352  \n",
              "4764                          3.44     33767.333575  \n",
              "36                            4.10     27637.656548  \n",
              "...                            ...              ...  \n",
              "4171                          3.29     25494.740298  \n",
              "599                           3.10     51614.830136  \n",
              "1361                          2.30     63184.613147  \n",
              "1547                          4.10     32725.279544  \n",
              "4959                          4.33     56148.449322  \n",
              "\n",
              "[3750 rows x 5 columns]"
            ],
            "text/html": [
              "\n",
              "  <div id=\"df-be6471ea-39f3-4eb1-b5b8-02af5e770a81\">\n",
              "    <div class=\"colab-df-container\">\n",
              "      <div>\n",
              "<style scoped>\n",
              "    .dataframe tbody tr th:only-of-type {\n",
              "        vertical-align: middle;\n",
              "    }\n",
              "\n",
              "    .dataframe tbody tr th {\n",
              "        vertical-align: top;\n",
              "    }\n",
              "\n",
              "    .dataframe thead th {\n",
              "        text-align: right;\n",
              "    }\n",
              "</style>\n",
              "<table border=\"1\" class=\"dataframe\">\n",
              "  <thead>\n",
              "    <tr style=\"text-align: right;\">\n",
              "      <th></th>\n",
              "      <th>Avg. Area Income</th>\n",
              "      <th>Avg. Area House Age</th>\n",
              "      <th>Avg. Area Number of Rooms</th>\n",
              "      <th>Avg. Area Number of Bedrooms</th>\n",
              "      <th>Area Population</th>\n",
              "    </tr>\n",
              "  </thead>\n",
              "  <tbody>\n",
              "    <tr>\n",
              "      <th>3430</th>\n",
              "      <td>72102.194650</td>\n",
              "      <td>5.146607</td>\n",
              "      <td>7.559894</td>\n",
              "      <td>3.50</td>\n",
              "      <td>18819.288593</td>\n",
              "    </tr>\n",
              "    <tr>\n",
              "      <th>3979</th>\n",
              "      <td>66484.844242</td>\n",
              "      <td>5.700885</td>\n",
              "      <td>6.908871</td>\n",
              "      <td>3.40</td>\n",
              "      <td>28002.647094</td>\n",
              "    </tr>\n",
              "    <tr>\n",
              "      <th>2153</th>\n",
              "      <td>78286.517912</td>\n",
              "      <td>4.236881</td>\n",
              "      <td>7.465136</td>\n",
              "      <td>5.29</td>\n",
              "      <td>42425.776352</td>\n",
              "    </tr>\n",
              "    <tr>\n",
              "      <th>4764</th>\n",
              "      <td>89687.484825</td>\n",
              "      <td>5.822977</td>\n",
              "      <td>7.475893</td>\n",
              "      <td>3.44</td>\n",
              "      <td>33767.333575</td>\n",
              "    </tr>\n",
              "    <tr>\n",
              "      <th>36</th>\n",
              "      <td>78667.904598</td>\n",
              "      <td>5.470652</td>\n",
              "      <td>7.780837</td>\n",
              "      <td>4.10</td>\n",
              "      <td>27637.656548</td>\n",
              "    </tr>\n",
              "    <tr>\n",
              "      <th>...</th>\n",
              "      <td>...</td>\n",
              "      <td>...</td>\n",
              "      <td>...</td>\n",
              "      <td>...</td>\n",
              "      <td>...</td>\n",
              "    </tr>\n",
              "    <tr>\n",
              "      <th>4171</th>\n",
              "      <td>56610.642563</td>\n",
              "      <td>4.846832</td>\n",
              "      <td>7.558137</td>\n",
              "      <td>3.29</td>\n",
              "      <td>25494.740298</td>\n",
              "    </tr>\n",
              "    <tr>\n",
              "      <th>599</th>\n",
              "      <td>70596.850945</td>\n",
              "      <td>6.548274</td>\n",
              "      <td>6.539986</td>\n",
              "      <td>3.10</td>\n",
              "      <td>51614.830136</td>\n",
              "    </tr>\n",
              "    <tr>\n",
              "      <th>1361</th>\n",
              "      <td>55621.899104</td>\n",
              "      <td>3.735942</td>\n",
              "      <td>6.868291</td>\n",
              "      <td>2.30</td>\n",
              "      <td>63184.613147</td>\n",
              "    </tr>\n",
              "    <tr>\n",
              "      <th>1547</th>\n",
              "      <td>63044.460096</td>\n",
              "      <td>5.935261</td>\n",
              "      <td>5.913454</td>\n",
              "      <td>4.10</td>\n",
              "      <td>32725.279544</td>\n",
              "    </tr>\n",
              "    <tr>\n",
              "      <th>4959</th>\n",
              "      <td>75078.791516</td>\n",
              "      <td>7.644779</td>\n",
              "      <td>8.440726</td>\n",
              "      <td>4.33</td>\n",
              "      <td>56148.449322</td>\n",
              "    </tr>\n",
              "  </tbody>\n",
              "</table>\n",
              "<p>3750 rows × 5 columns</p>\n",
              "</div>\n",
              "      <button class=\"colab-df-convert\" onclick=\"convertToInteractive('df-be6471ea-39f3-4eb1-b5b8-02af5e770a81')\"\n",
              "              title=\"Convert this dataframe to an interactive table.\"\n",
              "              style=\"display:none;\">\n",
              "        \n",
              "  <svg xmlns=\"http://www.w3.org/2000/svg\" height=\"24px\"viewBox=\"0 0 24 24\"\n",
              "       width=\"24px\">\n",
              "    <path d=\"M0 0h24v24H0V0z\" fill=\"none\"/>\n",
              "    <path d=\"M18.56 5.44l.94 2.06.94-2.06 2.06-.94-2.06-.94-.94-2.06-.94 2.06-2.06.94zm-11 1L8.5 8.5l.94-2.06 2.06-.94-2.06-.94L8.5 2.5l-.94 2.06-2.06.94zm10 10l.94 2.06.94-2.06 2.06-.94-2.06-.94-.94-2.06-.94 2.06-2.06.94z\"/><path d=\"M17.41 7.96l-1.37-1.37c-.4-.4-.92-.59-1.43-.59-.52 0-1.04.2-1.43.59L10.3 9.45l-7.72 7.72c-.78.78-.78 2.05 0 2.83L4 21.41c.39.39.9.59 1.41.59.51 0 1.02-.2 1.41-.59l7.78-7.78 2.81-2.81c.8-.78.8-2.07 0-2.86zM5.41 20L4 18.59l7.72-7.72 1.47 1.35L5.41 20z\"/>\n",
              "  </svg>\n",
              "      </button>\n",
              "      \n",
              "  <style>\n",
              "    .colab-df-container {\n",
              "      display:flex;\n",
              "      flex-wrap:wrap;\n",
              "      gap: 12px;\n",
              "    }\n",
              "\n",
              "    .colab-df-convert {\n",
              "      background-color: #E8F0FE;\n",
              "      border: none;\n",
              "      border-radius: 50%;\n",
              "      cursor: pointer;\n",
              "      display: none;\n",
              "      fill: #1967D2;\n",
              "      height: 32px;\n",
              "      padding: 0 0 0 0;\n",
              "      width: 32px;\n",
              "    }\n",
              "\n",
              "    .colab-df-convert:hover {\n",
              "      background-color: #E2EBFA;\n",
              "      box-shadow: 0px 1px 2px rgba(60, 64, 67, 0.3), 0px 1px 3px 1px rgba(60, 64, 67, 0.15);\n",
              "      fill: #174EA6;\n",
              "    }\n",
              "\n",
              "    [theme=dark] .colab-df-convert {\n",
              "      background-color: #3B4455;\n",
              "      fill: #D2E3FC;\n",
              "    }\n",
              "\n",
              "    [theme=dark] .colab-df-convert:hover {\n",
              "      background-color: #434B5C;\n",
              "      box-shadow: 0px 1px 3px 1px rgba(0, 0, 0, 0.15);\n",
              "      filter: drop-shadow(0px 1px 2px rgba(0, 0, 0, 0.3));\n",
              "      fill: #FFFFFF;\n",
              "    }\n",
              "  </style>\n",
              "\n",
              "      <script>\n",
              "        const buttonEl =\n",
              "          document.querySelector('#df-be6471ea-39f3-4eb1-b5b8-02af5e770a81 button.colab-df-convert');\n",
              "        buttonEl.style.display =\n",
              "          google.colab.kernel.accessAllowed ? 'block' : 'none';\n",
              "\n",
              "        async function convertToInteractive(key) {\n",
              "          const element = document.querySelector('#df-be6471ea-39f3-4eb1-b5b8-02af5e770a81');\n",
              "          const dataTable =\n",
              "            await google.colab.kernel.invokeFunction('convertToInteractive',\n",
              "                                                     [key], {});\n",
              "          if (!dataTable) return;\n",
              "\n",
              "          const docLinkHtml = 'Like what you see? Visit the ' +\n",
              "            '<a target=\"_blank\" href=https://colab.research.google.com/notebooks/data_table.ipynb>data table notebook</a>'\n",
              "            + ' to learn more about interactive tables.';\n",
              "          element.innerHTML = '';\n",
              "          dataTable['output_type'] = 'display_data';\n",
              "          await google.colab.output.renderOutput(dataTable, element);\n",
              "          const docLink = document.createElement('div');\n",
              "          docLink.innerHTML = docLinkHtml;\n",
              "          element.appendChild(docLink);\n",
              "        }\n",
              "      </script>\n",
              "    </div>\n",
              "  </div>\n",
              "  "
            ]
          },
          "metadata": {},
          "execution_count": 93
        }
      ]
    },
    {
      "cell_type": "code",
      "source": [
        "y_train"
      ],
      "metadata": {
        "colab": {
          "base_uri": "https://localhost:8080/"
        },
        "id": "5DoqQDEG_pLz",
        "outputId": "200b5408-e8fe-4c57-b61c-6f268b006725"
      },
      "execution_count": null,
      "outputs": [
        {
          "output_type": "execute_result",
          "data": {
            "text/plain": [
              "3430    9.958132e+05\n",
              "3979    8.735092e+05\n",
              "2153    1.360502e+06\n",
              "4764    1.742351e+06\n",
              "36      1.233220e+06\n",
              "            ...     \n",
              "4171    7.296417e+05\n",
              "599     1.599479e+06\n",
              "1361    1.102641e+06\n",
              "1547    8.650995e+05\n",
              "4959    2.108376e+06\n",
              "Name: Price, Length: 3750, dtype: float64"
            ]
          },
          "metadata": {},
          "execution_count": 94
        }
      ]
    },
    {
      "cell_type": "code",
      "source": [
        "from sklearn.neighbors import KNeighborsRegressor\n"
      ],
      "metadata": {
        "id": "SlGiQEcAL7ww"
      },
      "execution_count": null,
      "outputs": []
    },
    {
      "cell_type": "code",
      "source": [
        "Nn = KNeighborsRegressor()\n",
        "Nn.fit(X_train,y_train)\n",
        "y_pred = Nn.predict(X_test)"
      ],
      "metadata": {
        "id": "4TwGc7b5L7uS"
      },
      "execution_count": null,
      "outputs": []
    },
    {
      "cell_type": "code",
      "source": [
        "import sklearn\n",
        "X_axis = [i for i in range(1,50)]\n",
        "Y_axis = []\n",
        "for i in range(1,50):\n",
        "  model = KNeighborsRegressor(i)\n",
        "  model.fit(X_train,y_train)\n",
        "  pred_y = model.predict(X_test)\n",
        "  mse = sklearn.metrics.mean_squared_error(y_test, pred_y,squared = False)\n",
        "  Y_axis.append(mse)\n",
        "  print(f\"Error for k({i}) = {mse}\")"
      ],
      "metadata": {
        "colab": {
          "base_uri": "https://localhost:8080/"
        },
        "id": "G8RbhFqmNVd7",
        "outputId": "1b1038fb-eb8e-4abd-cd28-f5334743a221"
      },
      "execution_count": null,
      "outputs": [
        {
          "output_type": "stream",
          "name": "stdout",
          "text": [
            "Error for k(1) = 329949.6947800153\n",
            "Error for k(2) = 289823.297861354\n",
            "Error for k(3) = 273177.5560759873\n",
            "Error for k(4) = 265047.724007709\n",
            "Error for k(5) = 258460.41735197004\n",
            "Error for k(6) = 254606.08881569633\n",
            "Error for k(7) = 252586.83876577407\n",
            "Error for k(8) = 250385.29019236614\n",
            "Error for k(9) = 248910.19441699047\n",
            "Error for k(10) = 247653.67705347514\n",
            "Error for k(11) = 246307.7799763509\n",
            "Error for k(12) = 244961.8493953462\n",
            "Error for k(13) = 244231.71539412386\n",
            "Error for k(14) = 243501.74379434114\n",
            "Error for k(15) = 243107.7784052037\n",
            "Error for k(16) = 242732.44579023178\n",
            "Error for k(17) = 241918.94331569687\n",
            "Error for k(18) = 241227.80031162995\n",
            "Error for k(19) = 241090.37722017983\n",
            "Error for k(20) = 241246.9845129284\n",
            "Error for k(21) = 241419.51954026363\n",
            "Error for k(22) = 241011.0200886494\n",
            "Error for k(23) = 241236.12630270224\n",
            "Error for k(24) = 240988.00638901888\n",
            "Error for k(25) = 240882.23175579973\n",
            "Error for k(26) = 240605.353156386\n",
            "Error for k(27) = 240957.56405572538\n",
            "Error for k(28) = 240868.2589897514\n",
            "Error for k(29) = 241355.05619129102\n",
            "Error for k(30) = 240806.78724489655\n",
            "Error for k(31) = 240679.02013196098\n",
            "Error for k(32) = 240489.7229168589\n",
            "Error for k(33) = 240365.9107039272\n",
            "Error for k(34) = 240021.71276126718\n",
            "Error for k(35) = 239915.5618188864\n",
            "Error for k(36) = 240228.53071811338\n",
            "Error for k(37) = 239784.15929529828\n",
            "Error for k(38) = 239690.06364988306\n",
            "Error for k(39) = 239763.98074362313\n",
            "Error for k(40) = 239494.90006662015\n",
            "Error for k(41) = 239516.9746953227\n",
            "Error for k(42) = 239474.52690680747\n",
            "Error for k(43) = 239474.4512949738\n",
            "Error for k(44) = 239323.3028581341\n",
            "Error for k(45) = 239443.5617664831\n",
            "Error for k(46) = 239569.262315239\n",
            "Error for k(47) = 239368.71552602967\n",
            "Error for k(48) = 239453.97843661346\n",
            "Error for k(49) = 239426.64222086343\n"
          ]
        }
      ]
    },
    {
      "cell_type": "code",
      "source": [],
      "metadata": {
        "id": "2a92TtcBDnbe"
      },
      "execution_count": null,
      "outputs": []
    },
    {
      "cell_type": "code",
      "source": [
        "plt.scatter(X_axis, Y_axis, marker = '*')\n",
        "plt.xlabel(\"K\")\n",
        "plt.ylabel(\"MSE\")\n",
        "plt.show()"
      ],
      "metadata": {
        "colab": {
          "base_uri": "https://localhost:8080/",
          "height": 279
        },
        "id": "3HYTNos3SYCX",
        "outputId": "25ce305b-a433-48e4-bb64-6c41696c3acc"
      },
      "execution_count": null,
      "outputs": [
        {
          "output_type": "display_data",
          "data": {
            "text/plain": [
              "<Figure size 432x288 with 1 Axes>"
            ],
            "image/png": "[encoded data removed]"
          },
          "metadata": {
            "needs_background": "light"
          }
        }
      ]
    },
    {
      "cell_type": "code",
      "source": [
        "r2_score(y_test,y_pred)"
      ],
      "metadata": {
        "colab": {
          "base_uri": "https://localhost:8080/"
        },
        "id": "vCjmlOOFDkOO",
        "outputId": "821b04c7-fdb2-492d-bebf-b19ba3190678"
      },
      "execution_count": null,
      "outputs": [
        {
          "output_type": "execute_result",
          "data": {
            "text/plain": [
              "0.4654612865557478"
            ]
          },
          "metadata": {},
          "execution_count": 99
        }
      ]
    },
    {
      "cell_type": "code",
      "source": [
        "ct = 0\n",
        "ln = 0\n",
        "for i in y_pred:      # Mean Error\n",
        "  ct += i\n",
        "  ln += 1\n",
        "ct/ln"
      ],
      "metadata": {
        "colab": {
          "base_uri": "https://localhost:8080/"
        },
        "id": "a_avWjdvUGR6",
        "outputId": "c9285cc2-7b2a-4e7f-d95d-29f036700c9f"
      },
      "execution_count": null,
      "outputs": [
        {
          "output_type": "execute_result",
          "data": {
            "text/plain": [
              "1240317.2668683028"
            ]
          },
          "metadata": {},
          "execution_count": 100
        }
      ]
    },
    {
      "cell_type": "code",
      "source": [
        "mean_squared_error(y_test, y_pred, squared = False)   # RMSE"
      ],
      "metadata": {
        "colab": {
          "base_uri": "https://localhost:8080/"
        },
        "id": "bMgR8ukjVTqN",
        "outputId": "80ddbb2f-f53c-4968-ea1a-6f077b08606e"
      },
      "execution_count": null,
      "outputs": [
        {
          "output_type": "execute_result",
          "data": {
            "text/plain": [
              "258460.41735197004"
            ]
          },
          "metadata": {},
          "execution_count": 101
        }
      ]
    },
    {
      "cell_type": "code",
      "source": [
        "mean_squared_error(y_test, y_pred, squared = True)    # MSE"
      ],
      "metadata": {
        "colab": {
          "base_uri": "https://localhost:8080/"
        },
        "id": "Vls5vOxQXTGE",
        "outputId": "8cf81dc8-de9f-4ec3-8e35-eee7297bd15a"
      },
      "execution_count": null,
      "outputs": [
        {
          "output_type": "execute_result",
          "data": {
            "text/plain": [
              "66801787337.75454"
            ]
          },
          "metadata": {},
          "execution_count": 102
        }
      ]
    }
  ]
}