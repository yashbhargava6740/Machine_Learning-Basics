{
 "cells": [
  {
   "cell_type": "code",
   "execution_count": 181,
   "id": "a50dd032",
   "metadata": {},
   "outputs": [],
   "source": [
    "#import basic modules\n",
    "import numpy as np\n",
    "import pandas as pd\n",
    "img_size = 48   \n",
    "folder_path = r\"C:\\Users\\Yash Bhargava\\anaconda3\\Data\"  # Dataset folder path......Stored in 'Data' folder"
   ]
  },
  {
   "cell_type": "markdown",
   "id": "3d4f99b5",
   "metadata": {},
   "source": [
    "listdir method of os module helps to get a list of avaiable files or folders in a directory.\n",
    "We have out train and test images in train and test folder."
   ]
  },
  {
   "cell_type": "code",
   "execution_count": 182,
   "id": "e6ccad96",
   "metadata": {},
   "outputs": [
    {
     "data": {
      "text/plain": [
       "['test', 'train']"
      ]
     },
     "execution_count": 182,
     "metadata": {},
     "output_type": "execute_result"
    }
   ],
   "source": [
    "import os\n",
    "os.listdir(folder_path) "
   ]
  },
  {
   "cell_type": "code",
   "execution_count": 183,
   "id": "2a03e0fc",
   "metadata": {},
   "outputs": [
    {
     "name": "stderr",
     "output_type": "stream",
     "text": [
      "100%|█████████████████████████████████████████████████████████████████████████████| 3995/3995 [00:07<00:00, 533.47it/s]\n",
      "100%|███████████████████████████████████████████████████████████████████████████████| 436/436 [00:00<00:00, 541.83it/s]\n",
      "100%|█████████████████████████████████████████████████████████████████████████████| 4097/4097 [00:07<00:00, 584.83it/s]\n",
      "100%|█████████████████████████████████████████████████████████████████████████████| 7215/7215 [00:15<00:00, 458.50it/s]\n",
      "100%|█████████████████████████████████████████████████████████████████████████████| 4965/4965 [00:11<00:00, 431.63it/s]\n",
      "100%|█████████████████████████████████████████████████████████████████████████████| 4830/4830 [00:08<00:00, 556.01it/s]\n",
      "100%|█████████████████████████████████████████████████████████████████████████████| 3171/3171 [00:05<00:00, 547.06it/s]\n",
      "100%|███████████████████████████████████████████████████████████████████████████████| 958/958 [00:01<00:00, 566.32it/s]\n",
      "100%|███████████████████████████████████████████████████████████████████████████████| 110/110 [00:00<00:00, 539.92it/s]\n",
      "100%|█████████████████████████████████████████████████████████████████████████████| 1024/1024 [00:01<00:00, 534.43it/s]\n",
      "100%|█████████████████████████████████████████████████████████████████████████████| 1774/1774 [00:04<00:00, 367.44it/s]\n",
      "100%|█████████████████████████████████████████████████████████████████████████████| 1233/1233 [00:03<00:00, 410.77it/s]\n",
      "100%|█████████████████████████████████████████████████████████████████████████████| 1247/1247 [00:03<00:00, 414.85it/s]\n",
      "100%|███████████████████████████████████████████████████████████████████████████████| 831/831 [00:01<00:00, 535.95it/s]"
     ]
    },
    {
     "name": "stdout",
     "output_type": "stream",
     "text": [
      "Wall time: 1min 13s\n"
     ]
    },
    {
     "name": "stderr",
     "output_type": "stream",
     "text": [
      "\n"
     ]
    }
   ],
   "source": [
    "%%time\n",
    "from tqdm import tqdm    # tqdm for loading gui\n",
    "import cv2               # import opencv\n",
    "def get_data(s):\n",
    "    # s:train|test\n",
    "    labels = os.listdir(f'{folder_path}/{s}')     # Sample path:-  \"C:\\Users\\Yash Bhargava\\anaconda3\\Data\\train\"\n",
    "    x = []\n",
    "    y = []\n",
    "    for label in labels:\n",
    "        image_it = os.listdir(f'{folder_path}/{s}/{label}') # Sample path:-\"C:\\Users\\Yash Bhargava\\anaconda3\\Data\\train\\angry\"\n",
    "        for img_name in tqdm(image_it):\n",
    "            img_path = (f'{folder_path}/{s}/{label}/{img_name}') # Sample path:-\"C:\\Users\\Yash Bhargava\\anaconda3\\Data\\train\\angry\\imgname\"                  \n",
    "            img = cv2.imread(img_path)\n",
    "            x.append(np.expand_dims(cv2.cvtColor(img,cv2.COLOR_BGR2GRAY),axis=-1)) # Adding extra axis to dimension array as required by algo.\n",
    "            y.append(label)\n",
    "    return np.array(x),np.array(y)\n",
    "train_image,train_label = get_data('train')   # store training images and labels in separate variables\n",
    "test_image,test_label = get_data('test')      # store testing images and labels in sparate variables"
   ]
  },
  {
   "cell_type": "code",
   "execution_count": 184,
   "id": "c15ec7f6",
   "metadata": {},
   "outputs": [
    {
     "data": {
      "text/plain": [
       "((28709, 48, 48, 1), (28709,), (7177, 48, 48, 1), (7177,))"
      ]
     },
     "execution_count": 184,
     "metadata": {},
     "output_type": "execute_result"
    }
   ],
   "source": [
    "train_image.shape,train_label.shape,test_image.shape, test_label.shape"
   ]
  },
  {
   "cell_type": "code",
   "execution_count": 185,
   "id": "48d668b8",
   "metadata": {},
   "outputs": [
    {
     "data": {
      "text/plain": [
       "(happy       7215\n",
       " neutral     4965\n",
       " sad         4830\n",
       " fear        4097\n",
       " angry       3995\n",
       " surprise    3171\n",
       " disgust      436\n",
       " dtype: int64,\n",
       " happy       1774\n",
       " sad         1247\n",
       " neutral     1233\n",
       " fear        1024\n",
       " angry        958\n",
       " surprise     831\n",
       " disgust      110\n",
       " dtype: int64)"
      ]
     },
     "execution_count": 185,
     "metadata": {},
     "output_type": "execute_result"
    }
   ],
   "source": [
    "pd.Series(train_label).value_counts(),pd.Series(test_label).value_counts()"
   ]
  },
  {
   "cell_type": "code",
   "execution_count": 186,
   "id": "ac467c62",
   "metadata": {},
   "outputs": [],
   "source": [
    "train_label = pd.Series(train_label)\n",
    "test_label = pd.Series(test_label)"
   ]
  },
  {
   "cell_type": "code",
   "execution_count": 187,
   "id": "082fc43f",
   "metadata": {},
   "outputs": [
    {
     "data": {
      "text/plain": [
       "(array([0, 0, 0, ..., 6, 6, 6], dtype=int64),\n",
       " Index(['angry', 'disgust', 'fear', 'happy', 'neutral', 'sad', 'surprise'], dtype='object'))"
      ]
     },
     "execution_count": 187,
     "metadata": {},
     "output_type": "execute_result"
    }
   ],
   "source": [
    "train_label.factorize()"
   ]
  },
  {
   "cell_type": "code",
   "execution_count": 188,
   "id": "14341f78",
   "metadata": {},
   "outputs": [
    {
     "data": {
      "text/plain": [
       "0          angry\n",
       "1          angry\n",
       "2          angry\n",
       "3          angry\n",
       "4          angry\n",
       "          ...   \n",
       "7172    surprise\n",
       "7173    surprise\n",
       "7174    surprise\n",
       "7175    surprise\n",
       "7176    surprise\n",
       "Length: 7177, dtype: object"
      ]
     },
     "execution_count": 188,
     "metadata": {},
     "output_type": "execute_result"
    }
   ],
   "source": [
    "test_label"
   ]
  },
  {
   "cell_type": "code",
   "execution_count": 189,
   "id": "f7e3cc92",
   "metadata": {},
   "outputs": [],
   "source": [
    "\n",
    "from keras.models import Sequential\n",
    "from keras.layers import Dense, Conv2D, MaxPool2D, Flatten\n",
    "from keras.utils import np_utils\n",
    "from sklearn.metrics import accuracy_score\n",
    "import matplotlib.pyplot as plt\n",
    "train_image = train_image.astype('float32')\n",
    "test_image = test_image.astype('float32')\n",
    "\n",
    "# normalizing the data to help with the training\n",
    "train_image /= 255\n",
    "test_image /= 255"
   ]
  },
  {
   "cell_type": "code",
   "execution_count": 190,
   "id": "ed6b2ba0",
   "metadata": {},
   "outputs": [
    {
     "name": "stdout",
     "output_type": "stream",
     "text": [
      "Shape before one-hot encoding:  (28709,)\n",
      "Shape after one-hot encoding:  (28709, 7)\n",
      "<class 'numpy.ndarray'>\n"
     ]
    }
   ],
   "source": [
    "n_classes = 7\n",
    "# Label Encoding\n",
    "print(\"Shape before one-hot encoding: \", train_label.shape)\n",
    "train_label = np_utils.to_categorical(train_label.factorize()[0], n_classes)\n",
    "test_label = np_utils.to_categorical(test_label.factorize()[0], n_classes)\n",
    "print(\"Shape after one-hot encoding: \", train_label.shape)\n",
    "print(type(train_label))"
   ]
  },
  {
   "cell_type": "code",
   "execution_count": 194,
   "id": "15e4a81a",
   "metadata": {},
   "outputs": [
    {
     "name": "stdout",
     "output_type": "stream",
     "text": [
      "Epoch 1/50\n",
      "449/449 [==============================] - 171s 378ms/step - loss: 1.6319 - accuracy: 0.3620 - val_loss: 1.4874 - val_accuracy: 0.4315\n",
      "Epoch 2/50\n",
      "449/449 [==============================] - 161s 358ms/step - loss: 1.3994 - accuracy: 0.4611 - val_loss: 1.3530 - val_accuracy: 0.4772\n",
      "Epoch 3/50\n",
      "449/449 [==============================] - 278s 619ms/step - loss: 1.2461 - accuracy: 0.5264 - val_loss: 1.3069 - val_accuracy: 0.4988\n",
      "Epoch 4/50\n",
      "449/449 [==============================] - 164s 366ms/step - loss: 1.0825 - accuracy: 0.5930 - val_loss: 1.2910 - val_accuracy: 0.5151\n",
      "Epoch 5/50\n",
      "449/449 [==============================] - 172s 383ms/step - loss: 0.8664 - accuracy: 0.6862 - val_loss: 1.3148 - val_accuracy: 0.5286\n",
      "Epoch 6/50\n",
      "449/449 [==============================] - 160s 356ms/step - loss: 0.5905 - accuracy: 0.7926 - val_loss: 1.4174 - val_accuracy: 0.5371\n",
      "Epoch 7/50\n",
      "449/449 [==============================] - 162s 362ms/step - loss: 0.3268 - accuracy: 0.8965 - val_loss: 1.7400 - val_accuracy: 0.5307\n",
      "Epoch 8/50\n",
      "449/449 [==============================] - 165s 367ms/step - loss: 0.1563 - accuracy: 0.9585 - val_loss: 2.0935 - val_accuracy: 0.5370\n",
      "Epoch 9/50\n",
      "449/449 [==============================] - 193s 430ms/step - loss: 0.1005 - accuracy: 0.9783 - val_loss: 2.2627 - val_accuracy: 0.5413\n",
      "Epoch 10/50\n",
      "449/449 [==============================] - 188s 419ms/step - loss: 0.0674 - accuracy: 0.9874 - val_loss: 2.4986 - val_accuracy: 0.5428\n",
      "Epoch 11/50\n",
      "449/449 [==============================] - 164s 365ms/step - loss: 0.0616 - accuracy: 0.9893 - val_loss: 2.5606 - val_accuracy: 0.5306\n",
      "Epoch 12/50\n",
      "449/449 [==============================] - 170s 379ms/step - loss: 0.0616 - accuracy: 0.9896 - val_loss: 2.4977 - val_accuracy: 0.5434\n",
      "Epoch 13/50\n",
      "449/449 [==============================] - 190s 424ms/step - loss: 0.0561 - accuracy: 0.9908 - val_loss: 2.6303 - val_accuracy: 0.5338\n",
      "Epoch 14/50\n",
      "449/449 [==============================] - 166s 369ms/step - loss: 0.0506 - accuracy: 0.9912 - val_loss: 2.5948 - val_accuracy: 0.5370\n",
      "Epoch 15/50\n",
      "449/449 [==============================] - 163s 363ms/step - loss: 0.0465 - accuracy: 0.9931 - val_loss: 2.7812 - val_accuracy: 0.5469\n",
      "Epoch 16/50\n",
      "449/449 [==============================] - 191s 425ms/step - loss: 0.0494 - accuracy: 0.9918 - val_loss: 2.5989 - val_accuracy: 0.5377\n",
      "Epoch 17/50\n",
      "449/449 [==============================] - 177s 393ms/step - loss: 0.0436 - accuracy: 0.9934 - val_loss: 2.6333 - val_accuracy: 0.5330\n",
      "Epoch 18/50\n",
      "449/449 [==============================] - 163s 364ms/step - loss: 0.0435 - accuracy: 0.9930 - val_loss: 2.7412 - val_accuracy: 0.5296\n",
      "Epoch 19/50\n",
      "449/449 [==============================] - 172s 382ms/step - loss: 0.0474 - accuracy: 0.9913 - val_loss: 2.7659 - val_accuracy: 0.5413\n",
      "Epoch 20/50\n",
      "449/449 [==============================] - 203s 453ms/step - loss: 0.0480 - accuracy: 0.9900 - val_loss: 2.8723 - val_accuracy: 0.5281\n",
      "Epoch 21/50\n",
      "449/449 [==============================] - 177s 394ms/step - loss: 0.0354 - accuracy: 0.9935 - val_loss: 2.8997 - val_accuracy: 0.5403\n",
      "Epoch 22/50\n",
      "449/449 [==============================] - 157s 351ms/step - loss: 0.0332 - accuracy: 0.9951 - val_loss: 2.8416 - val_accuracy: 0.5441\n",
      "Epoch 23/50\n",
      "449/449 [==============================] - 160s 356ms/step - loss: 0.0306 - accuracy: 0.9952 - val_loss: 2.9755 - val_accuracy: 0.5389\n",
      "Epoch 24/50\n",
      "449/449 [==============================] - 189s 422ms/step - loss: 0.0371 - accuracy: 0.9932 - val_loss: 2.8123 - val_accuracy: 0.5339\n",
      "Epoch 25/50\n",
      "449/449 [==============================] - 161s 359ms/step - loss: 0.0352 - accuracy: 0.9934 - val_loss: 2.9672 - val_accuracy: 0.5382\n",
      "Epoch 26/50\n",
      "449/449 [==============================] - 161s 359ms/step - loss: 0.0364 - accuracy: 0.9922 - val_loss: 3.0485 - val_accuracy: 0.5409\n",
      "Epoch 27/50\n",
      "449/449 [==============================] - 176s 393ms/step - loss: 0.0286 - accuracy: 0.9948 - val_loss: 2.9175 - val_accuracy: 0.5363\n",
      "Epoch 28/50\n",
      "449/449 [==============================] - 169s 377ms/step - loss: 0.0245 - accuracy: 0.9953 - val_loss: 2.9396 - val_accuracy: 0.5339\n",
      "Epoch 29/50\n",
      "449/449 [==============================] - 179s 399ms/step - loss: 0.0231 - accuracy: 0.9954 - val_loss: 2.9778 - val_accuracy: 0.5289\n",
      "Epoch 30/50\n",
      "449/449 [==============================] - 188s 419ms/step - loss: 0.0272 - accuracy: 0.9950 - val_loss: 2.9904 - val_accuracy: 0.5264\n",
      "Epoch 31/50\n",
      "449/449 [==============================] - 170s 379ms/step - loss: 0.0228 - accuracy: 0.9958 - val_loss: 3.0266 - val_accuracy: 0.5277\n",
      "Epoch 32/50\n",
      "449/449 [==============================] - 203s 453ms/step - loss: 0.0237 - accuracy: 0.9956 - val_loss: 2.8505 - val_accuracy: 0.5306\n",
      "Epoch 33/50\n",
      "449/449 [==============================] - 181s 404ms/step - loss: 0.0261 - accuracy: 0.9949 - val_loss: 3.0751 - val_accuracy: 0.5306\n",
      "Epoch 34/50\n",
      "449/449 [==============================] - 167s 372ms/step - loss: 0.0364 - accuracy: 0.9903 - val_loss: 3.1267 - val_accuracy: 0.5249\n",
      "Epoch 35/50\n",
      "449/449 [==============================] - 170s 379ms/step - loss: 0.0257 - accuracy: 0.9952 - val_loss: 3.0788 - val_accuracy: 0.5299\n",
      "Epoch 36/50\n",
      "449/449 [==============================] - 175s 391ms/step - loss: 0.0190 - accuracy: 0.9965 - val_loss: 3.0135 - val_accuracy: 0.5324\n",
      "Epoch 37/50\n",
      "449/449 [==============================] - 177s 394ms/step - loss: 0.0178 - accuracy: 0.9966 - val_loss: 2.8788 - val_accuracy: 0.5389\n",
      "Epoch 38/50\n",
      "449/449 [==============================] - 183s 407ms/step - loss: 0.0167 - accuracy: 0.9966 - val_loss: 2.8896 - val_accuracy: 0.5254\n",
      "Epoch 39/50\n",
      "449/449 [==============================] - 180s 401ms/step - loss: 0.0173 - accuracy: 0.9963 - val_loss: 3.1935 - val_accuracy: 0.5272\n",
      "Epoch 40/50\n",
      "449/449 [==============================] - 195s 434ms/step - loss: 0.0208 - accuracy: 0.9953 - val_loss: 3.4542 - val_accuracy: 0.5171\n",
      "Epoch 41/50\n",
      "449/449 [==============================] - 165s 368ms/step - loss: 0.0346 - accuracy: 0.9904 - val_loss: 3.4239 - val_accuracy: 0.5224\n",
      "Epoch 42/50\n",
      "449/449 [==============================] - 180s 400ms/step - loss: 0.0214 - accuracy: 0.9945 - val_loss: 3.2364 - val_accuracy: 0.5268\n",
      "Epoch 43/50\n",
      "449/449 [==============================] - 201s 449ms/step - loss: 0.0142 - accuracy: 0.9967 - val_loss: 3.1532 - val_accuracy: 0.5402\n",
      "Epoch 44/50\n",
      "449/449 [==============================] - 179s 399ms/step - loss: 0.0139 - accuracy: 0.9969 - val_loss: 2.9997 - val_accuracy: 0.5327\n",
      "Epoch 45/50\n",
      "449/449 [==============================] - 178s 396ms/step - loss: 0.0122 - accuracy: 0.9968 - val_loss: 3.0013 - val_accuracy: 0.5281\n",
      "Epoch 46/50\n",
      "449/449 [==============================] - 160s 356ms/step - loss: 0.0128 - accuracy: 0.9968 - val_loss: 2.9440 - val_accuracy: 0.5352\n",
      "Epoch 47/50\n",
      "449/449 [==============================] - 167s 372ms/step - loss: 0.0211 - accuracy: 0.9944 - val_loss: 3.3776 - val_accuracy: 0.5146\n",
      "Epoch 48/50\n",
      "449/449 [==============================] - 177s 393ms/step - loss: 0.0337 - accuracy: 0.9911 - val_loss: 3.2818 - val_accuracy: 0.5187\n",
      "Epoch 49/50\n",
      "449/449 [==============================] - 168s 375ms/step - loss: 0.0202 - accuracy: 0.9947 - val_loss: 3.2526 - val_accuracy: 0.5285\n",
      "Epoch 50/50\n",
      "449/449 [==============================] - 166s 371ms/step - loss: 0.0111 - accuracy: 0.9970 - val_loss: 3.3025 - val_accuracy: 0.5327\n",
      "Wall time: 2h 27min 15s\n"
     ]
    },
    {
     "data": {
      "text/plain": [
       "<keras.callbacks.History at 0x2c282a11a30>"
      ]
     },
     "execution_count": 194,
     "metadata": {},
     "output_type": "execute_result"
    }
   ],
   "source": [
    "%%time\n",
    "model = Sequential()\n",
    "# convolutional layer\n",
    "model.add(Conv2D(8, kernel_size=(2,2), strides=(1,1), padding = 'same', activation='relu', input_shape = (48,48,1)))\n",
    "model.add(MaxPool2D(pool_size=(2,2)))\n",
    "model.add(Conv2D(16, kernel_size=(2,2), strides=(1,1), padding = 'same',activation='relu'))\n",
    "model.add(MaxPool2D(pool_size=(2,2)))\n",
    "model.add(Conv2D(32, kernel_size=(2,2), strides=(1,1), padding = 'same', activation='relu'))\n",
    "# model.add(MaxPool2D(pool_size=(2,2)))\n",
    "# model.add(Conv2D(64, kernel_size=(2,2), strides=(1,1), padding = 'same', activation='relu'))\n",
    "# model.add(MaxPool2D(pool_size=(2,2)))\n",
    "# model.add(Conv2D(128, kernel_size=(2,2), strides=(1,1), padding = 'same', activation='relu'))\n",
    "# model.add(MaxPool2D(pool_size=(2,2)))\n",
    "\n",
    "# flatten output of conv\n",
    "model.add(Flatten())\n",
    "# hidden layer\n",
    "model.add(Dense(5000, activation='relu'))\n",
    "# output layer\n",
    "model.add(Dense(7, activation='softmax'))\n",
    "\n",
    "# compiling the sequential model\n",
    "model.compile(loss='categorical_crossentropy', metrics=['accuracy'], optimizer='adam') # Model Architecture Ends\n",
    "\n",
    "# training the model for 30 epochs\n",
    "model.fit(train_image, train_label, batch_size=64, epochs=50, validation_data=(test_image, test_label))\n"
   ]
  },
  {
   "cell_type": "code",
   "execution_count": 195,
   "id": "577ed485",
   "metadata": {},
   "outputs": [
    {
     "name": "stdout",
     "output_type": "stream",
     "text": [
      "Model: \"sequential_44\"\n",
      "_________________________________________________________________\n",
      " Layer (type)                Output Shape              Param #   \n",
      "=================================================================\n",
      " conv2d_201 (Conv2D)         (None, 48, 48, 8)         40        \n",
      "                                                                 \n",
      " max_pooling2d_199 (MaxPooli  (None, 24, 24, 8)        0         \n",
      " ng2D)                                                           \n",
      "                                                                 \n",
      " conv2d_202 (Conv2D)         (None, 24, 24, 16)        528       \n",
      "                                                                 \n",
      " max_pooling2d_200 (MaxPooli  (None, 12, 12, 16)       0         \n",
      " ng2D)                                                           \n",
      "                                                                 \n",
      " conv2d_203 (Conv2D)         (None, 12, 12, 32)        2080      \n",
      "                                                                 \n",
      " flatten_32 (Flatten)        (None, 4608)              0         \n",
      "                                                                 \n",
      " dense_64 (Dense)            (None, 5000)              23045000  \n",
      "                                                                 \n",
      " dense_65 (Dense)            (None, 7)                 35007     \n",
      "                                                                 \n",
      "=================================================================\n",
      "Total params: 23,082,655\n",
      "Trainable params: 23,082,655\n",
      "Non-trainable params: 0\n",
      "_________________________________________________________________\n"
     ]
    }
   ],
   "source": [
    "model.summary()"
   ]
  },
  {
   "cell_type": "code",
   "execution_count": 196,
   "id": "b92d0d1f",
   "metadata": {},
   "outputs": [
    {
     "name": "stdout",
     "output_type": "stream",
     "text": [
      "225/225 [==============================] - 11s 47ms/step - loss: 3.3025 - accuracy: 0.5327\n",
      "Test Score:  3.3024911880493164\n",
      "Test accuracy:  0.5326738357543945\n"
     ]
    }
   ],
   "source": [
    "score = model.evaluate(test_image, test_label)\n",
    "print(\"Test Score: \", score[0])\n",
    "print(\"Test accuracy: \", score[1])"
   ]
  }
 ],
 "metadata": {
  "kernelspec": {
   "display_name": "Python 3 (ipykernel)",
   "language": "python",
   "name": "python3"
  },
  "language_info": {
   "codemirror_mode": {
    "name": "ipython",
    "version": 3
   },
   "file_extension": ".py",
   "mimetype": "text/x-python",
   "name": "python",
   "nbconvert_exporter": "python",
   "pygments_lexer": "ipython3",
   "version": "3.9.13"
  }
 },
 "nbformat": 4,
 "nbformat_minor": 5
}
