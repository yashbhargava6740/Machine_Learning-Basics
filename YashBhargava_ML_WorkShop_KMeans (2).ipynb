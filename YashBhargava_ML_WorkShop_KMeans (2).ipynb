{
  "nbformat": 4,
  "nbformat_minor": 0,
  "metadata": {
    "colab": {
      "provenance": [],
      "collapsed_sections": []
    },
    "kernelspec": {
      "name": "python3",
      "display_name": "Python 3"
    },
    "language_info": {
      "name": "python"
    }
  },
  "cells": [
    {
      "cell_type": "markdown",
      "source": [
        "# Name:- Yash Bhargava\n",
        "# Section:- T(53)\n",
        "# University RollNo:- 2115500160"
      ],
      "metadata": {
        "id": "BJgujotL25Np"
      }
    },
    {
      "cell_type": "markdown",
      "source": [
        "Importing Required Modules"
      ],
      "metadata": {
        "id": "9AEWW0VDBM4a"
      }
    },
    {
      "cell_type": "code",
      "execution_count": null,
      "metadata": {
        "id": "sCgdc6bzByQB"
      },
      "outputs": [],
      "source": [
        "import numpy as np\n",
        "import pandas as pd\n",
        "import matplotlib.pyplot as plt"
      ]
    },
    {
      "cell_type": "markdown",
      "source": [
        "Creating a Randomized Data"
      ],
      "metadata": {
        "id": "aO52hTDXBPk3"
      }
    },
    {
      "cell_type": "code",
      "source": [
        "df = pd.DataFrame({\n",
        "    'x' : [12,20,28,18,29,33,24,45,45,52,51,52,55,52,55,61,64,69,72],\n",
        "    'y' : [29,36,30,52,54,46,55,59,63,70,66,63,58,23,14,8,19,7,24]\n",
        "})"
      ],
      "metadata": {
        "id": "xDsdWe0gB9Em"
      },
      "execution_count": null,
      "outputs": []
    },
    {
      "cell_type": "markdown",
      "source": [
        "Genrating Random Centroids"
      ],
      "metadata": {
        "id": "H_mjBWiYBS98"
      }
    },
    {
      "cell_type": "code",
      "source": [
        "np.random.seed(200)\n",
        "k = 3\n",
        "centroids = {\n",
        "    i+1:[np.random.randint(0,80), np.random.randint(0,80)]\n",
        "    for i in range(k)\n",
        "}\n",
        "centroids"
      ],
      "metadata": {
        "id": "pP5xmQLlC9On",
        "colab": {
          "base_uri": "https://localhost:8080/"
        },
        "outputId": "e23613b6-ffd4-4885-b2cd-e512daf1d16c"
      },
      "execution_count": null,
      "outputs": [
        {
          "output_type": "execute_result",
          "data": {
            "text/plain": [
              "{1: [26, 16], 2: [68, 42], 3: [55, 76]}"
            ]
          },
          "metadata": {},
          "execution_count": 3
        }
      ]
    },
    {
      "cell_type": "markdown",
      "source": [
        "\n",
        "Plotting Centroids and DataPoints"
      ],
      "metadata": {
        "id": "MEOnqZooBWVc"
      }
    },
    {
      "cell_type": "code",
      "source": [
        "fig = plt.figure(figsize = [5,5])\n",
        "plt.scatter(df['x'], df['y'], color = 'k')\n",
        "colmap = {1:'r', 2 : 'g', 3 : 'b'}\n",
        "for i in centroids.keys():\n",
        "  plt.scatter(*centroids[i],color=colmap[i])\n",
        "plt.xlim(0,80)\n",
        "plt.ylim(0,80)\n",
        "plt.show()"
      ],
      "metadata": {
        "colab": {
          "base_uri": "https://localhost:8080/"
        },
        "id": "1TvYa5dAEHuy",
        "outputId": "506bc6c4-11fc-4ef5-bf60-fdc35e4c6ae1"
      },
      "execution_count": null,
      "outputs": [
        {
          "output_type": "display_data",
          "data": {
            "text/plain": [
              "<Figure size 360x360 with 1 Axes>"
            ],
            "image/png": "[encoded data removed]"
          },
          "metadata": {
            "needs_background": "light"
          }
        }
      ]
    },
    {
      "cell_type": "markdown",
      "source": [
        "Importing kmeans"
      ],
      "metadata": {
        "id": "gDtijsVbBdJ4"
      }
    },
    {
      "cell_type": "code",
      "source": [
        "from sklearn.cluster import KMeans"
      ],
      "metadata": {
        "id": "S9Z9qexpFRnJ"
      },
      "execution_count": null,
      "outputs": []
    },
    {
      "cell_type": "markdown",
      "source": [
        "Creating Object of KMeans with 3 clusters and fitting of modules"
      ],
      "metadata": {
        "id": "WAQ8tyTdBjhK"
      }
    },
    {
      "cell_type": "code",
      "source": [
        "kmeans = KMeans(n_clusters = 3)\n",
        "kmeans.fit(df)"
      ],
      "metadata": {
        "colab": {
          "base_uri": "https://localhost:8080/"
        },
        "id": "EdhFv3QfG6-8",
        "outputId": "8476a0bc-633a-47b5-d293-c9aedff6544b"
      },
      "execution_count": null,
      "outputs": [
        {
          "output_type": "execute_result",
          "data": {
            "text/plain": [
              "KMeans(n_clusters=3)"
            ]
          },
          "metadata": {},
          "execution_count": 6
        }
      ]
    },
    {
      "cell_type": "markdown",
      "source": [
        "Setting up of data in separate clusters"
      ],
      "metadata": {
        "id": "hRrd8MBeBs0D"
      }
    },
    {
      "cell_type": "code",
      "source": [
        "labels = kmeans.predict(df)\n",
        "labels"
      ],
      "metadata": {
        "id": "VR6nAG_zHG63",
        "colab": {
          "base_uri": "https://localhost:8080/"
        },
        "outputId": "3aec3d09-a5e0-4e53-efc3-eb52cd2e24e8"
      },
      "execution_count": null,
      "outputs": [
        {
          "output_type": "execute_result",
          "data": {
            "text/plain": [
              "array([1, 1, 1, 1, 1, 1, 1, 2, 2, 2, 2, 2, 2, 0, 0, 0, 0, 0, 0],\n",
              "      dtype=int32)"
            ]
          },
          "metadata": {},
          "execution_count": 7
        }
      ]
    },
    {
      "cell_type": "markdown",
      "source": [
        "Centroids calculated"
      ],
      "metadata": {
        "id": "XKlB32ARBynu"
      }
    },
    {
      "cell_type": "code",
      "source": [
        "centroids = kmeans.cluster_centers_\n",
        "centroids"
      ],
      "metadata": {
        "id": "rP0S7N--HOr5",
        "colab": {
          "base_uri": "https://localhost:8080/"
        },
        "outputId": "41263a84-944d-41fc-cd1e-7710c3e05e50"
      },
      "execution_count": null,
      "outputs": [
        {
          "output_type": "execute_result",
          "data": {
            "text/plain": [
              "array([[62.16666667, 15.83333333],\n",
              "       [23.42857143, 43.14285714],\n",
              "       [50.        , 63.16666667]])"
            ]
          },
          "metadata": {},
          "execution_count": 8
        }
      ]
    },
    {
      "cell_type": "markdown",
      "source": [
        "Plotting of datapoints and centroids"
      ],
      "metadata": {
        "id": "6nL4nzDNB1zc"
      }
    },
    {
      "cell_type": "code",
      "source": [
        "fig = plt.figure(figsize = (5,5))\n",
        "colors = map(lambda x: colmap[x+1], labels)\n",
        "colors1 = list(colors)\n",
        "plt.scatter(df['x'], df['y'], color = colors1,alpha = 0.5, edgecolor = 'k')\n",
        "for idx, centroid in enumerate(centroids):\n",
        "  plt.scatter(*centroid,color = colmap[idx+1])\n",
        "plt.xlim(0,80)\n",
        "plt.ylim(0,80)\n",
        "plt.show()                                                                                                                    "
      ],
      "metadata": {
        "colab": {
          "base_uri": "https://localhost:8080/"
        },
        "id": "xwa33zUOHTCS",
        "outputId": "d822644c-b364-4eb7-83d6-096fa1efb1fc"
      },
      "execution_count": null,
      "outputs": [
        {
          "output_type": "display_data",
          "data": {
            "text/plain": [
              "<Figure size 360x360 with 1 Axes>"
            ],
            "image/png": "[encoded data removed]"
          },
          "metadata": {
            "needs_background": "light"
          }
        }
      ]
    },
    {
      "cell_type": "markdown",
      "source": [
        "Inertia measures how well a dataset was clustered by K-Means. "
      ],
      "metadata": {
        "id": "Qtpc2_SfEzQA"
      }
    },
    {
      "cell_type": "code",
      "source": [
        "kmeans.inertia_"
      ],
      "metadata": {
        "colab": {
          "base_uri": "https://localhost:8080/"
        },
        "id": "XVhAQyMgB_kO",
        "outputId": "88810b10-8feb-4720-bd95-2c84d0da613a"
      },
      "execution_count": null,
      "outputs": [
        {
          "output_type": "execute_result",
          "data": {
            "text/plain": [
              "1841.0714285714284"
            ]
          },
          "metadata": {},
          "execution_count": 10
        }
      ]
    },
    {
      "cell_type": "markdown",
      "source": [
        "# Model-2 :-"
      ],
      "metadata": {
        "id": "ZPK2DPrLfds6"
      }
    },
    {
      "cell_type": "code",
      "source": [
        "df_test = pd.DataFrame({\n",
        "    'x' : [5,3,6,2,7,10],\n",
        "    'y' : [1,4,5,8,9,4]\n",
        "})"
      ],
      "metadata": {
        "id": "MTbPeom1e2C2"
      },
      "execution_count": null,
      "outputs": []
    },
    {
      "cell_type": "code",
      "source": [
        "np.random.seed(200)\n",
        "k = 3\n",
        "centroids1 = {\n",
        "    i+1:[np.random.randint(0,11), np.random.randint(0,11)]\n",
        "    for i in range(k)\n",
        "}\n",
        "centroids1"
      ],
      "metadata": {
        "colab": {
          "base_uri": "https://localhost:8080/"
        },
        "id": "gjVrtOiJh20g",
        "outputId": "58b08a5e-4541-4415-b32d-963a43dbfaa1"
      },
      "execution_count": null,
      "outputs": [
        {
          "output_type": "execute_result",
          "data": {
            "text/plain": [
              "{1: [10, 9], 2: [0, 4], 3: [10, 7]}"
            ]
          },
          "metadata": {},
          "execution_count": 12
        }
      ]
    },
    {
      "cell_type": "code",
      "source": [
        "fig = plt.figure(figsize = (5,5))\n",
        "plt.scatter(df_test['x'], df_test['y'], color = 'k')\n",
        "for i in centroids1.keys():\n",
        "  plt.scatter(*centroids1[i], color = colmap[i])\n",
        "plt.xlim(0,11)\n",
        "plt.ylim(0,11)\n",
        "plt.show()"
      ],
      "metadata": {
        "colab": {
          "base_uri": "https://localhost:8080/"
        },
        "id": "YM1F-SgNh3MY",
        "outputId": "1491f6d1-a0ab-4a97-faa8-cde88dc61afd"
      },
      "execution_count": null,
      "outputs": [
        {
          "output_type": "display_data",
          "data": {
            "text/plain": [
              "<Figure size 360x360 with 1 Axes>"
            ],
            "image/png": "[encoded data removed]"
          },
          "metadata": {
            "needs_background": "light"
          }
        }
      ]
    },
    {
      "cell_type": "code",
      "source": [
        "kmeans.fit(df_test)"
      ],
      "metadata": {
        "colab": {
          "base_uri": "https://localhost:8080/"
        },
        "id": "7Yxi-kCQYm_v",
        "outputId": "fdfb77dd-22e2-4f7f-a556-75519b7ba6e8"
      },
      "execution_count": null,
      "outputs": [
        {
          "output_type": "execute_result",
          "data": {
            "text/plain": [
              "KMeans(n_clusters=3)"
            ]
          },
          "metadata": {},
          "execution_count": 14
        }
      ]
    },
    {
      "cell_type": "code",
      "source": [
        "labels1 = kmeans.predict(df_test)\n",
        "labels1"
      ],
      "metadata": {
        "colab": {
          "base_uri": "https://localhost:8080/"
        },
        "id": "n6Q-uhbfbn0Z",
        "outputId": "ed9a7bfb-92ed-46ac-c0b6-48847f81a3a5"
      },
      "execution_count": null,
      "outputs": [
        {
          "output_type": "execute_result",
          "data": {
            "text/plain": [
              "array([0, 0, 0, 1, 1, 2], dtype=int32)"
            ]
          },
          "metadata": {},
          "execution_count": 15
        }
      ]
    },
    {
      "cell_type": "code",
      "source": [
        "centroids1 = kmeans.cluster_centers_\n",
        "centroids1"
      ],
      "metadata": {
        "colab": {
          "base_uri": "https://localhost:8080/"
        },
        "id": "xrtZbVLzcGKg",
        "outputId": "04b1c973-e06b-49dc-c7d4-4ccf804a9779"
      },
      "execution_count": null,
      "outputs": [
        {
          "output_type": "execute_result",
          "data": {
            "text/plain": [
              "array([[ 4.66666667,  3.33333333],\n",
              "       [ 4.5       ,  8.5       ],\n",
              "       [10.        ,  4.        ]])"
            ]
          },
          "metadata": {},
          "execution_count": 16
        }
      ]
    },
    {
      "cell_type": "code",
      "source": [
        "fig = plt.figure(figsize = (5,5))\n",
        "colors = map(lambda x: colmap[x+1], labels1)\n",
        "colors1 = list(colors)\n",
        "plt.scatter(df_test['x'], df_test['y'], color = colors1, alpha = 0.5, edgecolor = 'k')\n",
        "for idx, centroid in enumerate(centroids1):\n",
        "  plt.scatter(*centroid,color = colmap[idx+1])\n",
        "plt.xlim(0,11)\n",
        "plt.ylim(0,11)\n",
        "plt.show()       "
      ],
      "metadata": {
        "colab": {
          "base_uri": "https://localhost:8080/"
        },
        "id": "ejmlB8VWSg7f",
        "outputId": "145c34a0-bda6-4dda-c79f-53bdb5178fd3"
      },
      "execution_count": null,
      "outputs": [
        {
          "output_type": "display_data",
          "data": {
            "text/plain": [
              "<Figure size 360x360 with 1 Axes>"
            ],
            "image/png": "[encoded data removed]"
          },
          "metadata": {
            "needs_background": "light"
          }
        }
      ]
    },
    {
      "cell_type": "markdown",
      "source": [
        "Inertia measures how well a dataset was clustered by K-Means. "
      ],
      "metadata": {
        "id": "6EcciettFDD_"
      }
    },
    {
      "cell_type": "code",
      "source": [
        "kmeans.inertia_"
      ],
      "metadata": {
        "colab": {
          "base_uri": "https://localhost:8080/"
        },
        "id": "y_noSUgt1sI0",
        "outputId": "46550be4-c421-4011-85a3-ac1dde44e8b6"
      },
      "execution_count": null,
      "outputs": [
        {
          "output_type": "execute_result",
          "data": {
            "text/plain": [
              "26.333333333333336"
            ]
          },
          "metadata": {},
          "execution_count": 18
        }
      ]
    },
    {
      "cell_type": "markdown",
      "source": [
        "# Conclusion\n",
        "Datapoints are arranged in particular clusters by calculating the distance between centroids and datapoints respectively."
      ],
      "metadata": {
        "id": "-kwjFlGRCK4K"
      }
    }
  ]
}