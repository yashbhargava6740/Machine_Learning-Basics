{
  "nbformat": 4,
  "nbformat_minor": 0,
  "metadata": {
    "colab": {
      "provenance": [],
      "collapsed_sections": []
    },
    "kernelspec": {
      "name": "python3",
      "display_name": "Python 3"
    },
    "language_info": {
      "name": "python"
    }
  },
  "cells": [
    {
      "cell_type": "code",
      "execution_count": null,
      "metadata": {
        "id": "FEaemBS1b8i-"
      },
      "outputs": [],
      "source": [
        "import  numpy as np"
      ]
    },
    {
      "cell_type": "code",
      "source": [
        "a = np.array([1,2,3,4])     # Creating Arrays\n",
        "print(a)\n",
        "print(type(a))\n",
        "print(a.ndim)\n",
        "print(a.dtype)              # Numpy Datatypes"
      ],
      "metadata": {
        "colab": {
          "base_uri": "https://localhost:8080/"
        },
        "id": "FzXHq-mUcATd",
        "outputId": "88fd1de0-cd39-4018-8a11-31dcf42da8d9"
      },
      "execution_count": null,
      "outputs": [
        {
          "output_type": "stream",
          "name": "stdout",
          "text": [
            "[1 2 3 4]\n",
            "<class 'numpy.ndarray'>\n",
            "1\n",
            "int64\n"
          ]
        }
      ]
    },
    {
      "cell_type": "code",
      "source": [
        "# Numpy Array Indexing\n",
        "print(a[0]) "
      ],
      "metadata": {
        "colab": {
          "base_uri": "https://localhost:8080/"
        },
        "id": "T3UViX3rr8Hh",
        "outputId": "17308f76-4c2d-4b6b-e794-3958cd04ae6f"
      },
      "execution_count": null,
      "outputs": [
        {
          "output_type": "stream",
          "name": "stdout",
          "text": [
            "1\n"
          ]
        }
      ]
    },
    {
      "cell_type": "code",
      "source": [
        "# Numpy Array Slicing\n",
        "print(a[-1::-1])"
      ],
      "metadata": {
        "colab": {
          "base_uri": "https://localhost:8080/"
        },
        "id": "GbNmEKoqsYQW",
        "outputId": "e5bb1633-ffd9-43a4-c5a5-8789934415a7"
      },
      "execution_count": null,
      "outputs": [
        {
          "output_type": "stream",
          "name": "stdout",
          "text": [
            "[4 3 2 1]\n"
          ]
        }
      ]
    },
    {
      "cell_type": "code",
      "source": [
        "a = np.array([1, 2, 3, 4])\n",
        "a2 = a.copy()\n",
        "a[3] = 15\n",
        "print(a)\n",
        "print(a2)"
      ],
      "metadata": {
        "colab": {
          "base_uri": "https://localhost:8080/"
        },
        "id": "GRmmYzkmcJHE",
        "outputId": "863372cc-54da-4545-aa7c-c2b7b4b2a4f7"
      },
      "execution_count": null,
      "outputs": [
        {
          "output_type": "stream",
          "name": "stdout",
          "text": [
            "[ 1  2  3 15]\n",
            "[1 2 3 4]\n"
          ]
        }
      ]
    },
    {
      "cell_type": "code",
      "source": [
        "a = np.array([1, 2, 3, 4])\n",
        "a2 = a.view()\n",
        "a[3] = 15\n",
        "print(a)\n",
        "print(a2)"
      ],
      "metadata": {
        "colab": {
          "base_uri": "https://localhost:8080/"
        },
        "id": "3HI7UMHccMfa",
        "outputId": "2c29e99f-7b5f-40f5-c2fa-b956b91ca0fb"
      },
      "execution_count": null,
      "outputs": [
        {
          "output_type": "stream",
          "name": "stdout",
          "text": [
            "[ 1  2  3 15]\n",
            "[ 1  2  3 15]\n"
          ]
        }
      ]
    },
    {
      "cell_type": "code",
      "source": [
        "a = np.array([1, 2, 3, 4, 5, 6,7,8,9])                            # array_split --> TO SPLIT THE ARRAY INTO 'N' NUMBER OF PARTS\n",
        "a2 = np.array_split(a, 3)\n",
        "print(a2[0])\n",
        "print(a2[1])\n",
        "print(a2[2])\n",
        "print(a2)"
      ],
      "metadata": {
        "colab": {
          "base_uri": "https://localhost:8080/"
        },
        "id": "DnSVAOghcPhy",
        "outputId": "4e5a4fba-a00a-4b7e-ece1-ead3f0915246"
      },
      "execution_count": null,
      "outputs": [
        {
          "output_type": "stream",
          "name": "stdout",
          "text": [
            "[1 2 3]\n",
            "[4 5 6]\n",
            "[7 8 9]\n",
            "[array([1, 2, 3]), array([4, 5, 6]), array([7, 8, 9])]\n"
          ]
        }
      ]
    },
    {
      "cell_type": "code",
      "source": [
        "a = np.array([23,56,43,97,85])\n",
        "print(np.sort(a))"
      ],
      "metadata": {
        "colab": {
          "base_uri": "https://localhost:8080/"
        },
        "id": "7GP1a0MPcRvO",
        "outputId": "b147f38e-54e1-4e49-b791-1631e4be8ec1"
      },
      "execution_count": null,
      "outputs": [
        {
          "output_type": "stream",
          "name": "stdout",
          "text": [
            "[23 43 56 85 97]\n"
          ]
        }
      ]
    },
    {
      "cell_type": "code",
      "source": [
        "list = [1,2,3,4,5,6,7]\n",
        "a = np.array(list)\n",
        "print(a)\n",
        "print(type(a))\n",
        "print(a.ndim)\n",
        "print(a.dtype)"
      ],
      "metadata": {
        "colab": {
          "base_uri": "https://localhost:8080/"
        },
        "id": "ViaWJuaucUse",
        "outputId": "ccde2bd3-1bd3-48d0-a552-249537a31302"
      },
      "execution_count": null,
      "outputs": [
        {
          "output_type": "stream",
          "name": "stdout",
          "text": [
            "[1 2 3 4 5 6 7]\n",
            "<class 'numpy.ndarray'>\n",
            "1\n",
            "int64\n"
          ]
        }
      ]
    },
    {
      "cell_type": "code",
      "source": [
        "a = np.array([1,2,3,4,5,5.4])\n",
        "print(a)\n",
        "a = a.reshape(3,2)    # Numpy reshape\n",
        "print(a)\n",
        "print(type(a))\n",
        "print(a.ndim)\n",
        "print(a.dtype)\n",
        "print(a.shape)    # Numpy Shape\n",
        "print(a.size)"
      ],
      "metadata": {
        "colab": {
          "base_uri": "https://localhost:8080/"
        },
        "id": "R4teq6m-cYRH",
        "outputId": "b4268a03-79cc-4760-e03f-c1ee52f66c42"
      },
      "execution_count": null,
      "outputs": [
        {
          "output_type": "stream",
          "name": "stdout",
          "text": [
            "[1.  2.  3.  4.  5.  5.4]\n",
            "[[1.  2. ]\n",
            " [3.  4. ]\n",
            " [5.  5.4]]\n",
            "<class 'numpy.ndarray'>\n",
            "2\n",
            "float64\n",
            "(3, 2)\n",
            "6\n"
          ]
        }
      ]
    },
    {
      "cell_type": "code",
      "source": [
        "a = np.array([[1, 2, 3, 4, 5], [6, 7, 8, 9, 10]])                 # IN THIS 2-D SLICING 1ST INDEX IS FOR ROWS AND 2ND IS FOR THE ELEMENTS\n",
        "print(a[0, 1:4])"
      ],
      "metadata": {
        "colab": {
          "base_uri": "https://localhost:8080/"
        },
        "id": "GejHpslAcbIL",
        "outputId": "b640f25e-ace2-4d53-a090-f3c3584b1030"
      },
      "execution_count": null,
      "outputs": [
        {
          "output_type": "stream",
          "name": "stdout",
          "text": [
            "[2 3 4]\n"
          ]
        }
      ]
    },
    {
      "cell_type": "code",
      "source": [
        "arr1 = np.array([1, 2, 3])\n",
        "arr2 = np.array([4, 5, 6])\n",
        "arr = np.concatenate((arr1, arr2))\n",
        "print(arr)\n"
      ],
      "metadata": {
        "colab": {
          "base_uri": "https://localhost:8080/"
        },
        "id": "KTne3RDucerT",
        "outputId": "fce26044-159f-44a3-9af6-f6b20558a816"
      },
      "execution_count": null,
      "outputs": [
        {
          "output_type": "stream",
          "name": "stdout",
          "text": [
            "[1 2 3 4 5 6]\n"
          ]
        }
      ]
    }
  ]
}