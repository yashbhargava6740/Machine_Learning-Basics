{
  "nbformat": 4,
  "nbformat_minor": 0,
  "metadata": {
    "colab": {
      "provenance": [],
      "collapsed_sections": []
    },
    "kernelspec": {
      "name": "python3",
      "display_name": "Python 3"
    },
    "language_info": {
      "name": "python"
    }
  },
  "cells": [
    {
      "cell_type": "markdown",
      "source": [
        "#Name :- Yash Bhargava\n",
        "#Section :- T2    ClassRno :- 53\n",
        "#University RollNo :- 2115500160 \n"
      ],
      "metadata": {
        "id": "ulUd83lZYeqD"
      }
    },
    {
      "cell_type": "markdown",
      "source": [
        "# k-nearest neighbors algorithm"
      ],
      "metadata": {
        "id": "LFLftOQdKZ90"
      }
    },
    {
      "cell_type": "markdown",
      "source": [
        "Importing Required Modules"
      ],
      "metadata": {
        "id": "2cbsk8K5Kyrt"
      }
    },
    {
      "cell_type": "code",
      "execution_count": null,
      "metadata": {
        "id": "v3Bbx0TpKIRd"
      },
      "outputs": [],
      "source": [
        "import numpy as np\n",
        "import pandas as pd\n",
        "import sklearn\n",
        "import matplotlib.pyplot as plt\n",
        "from sklearn.metrics import r2_score"
      ]
    },
    {
      "cell_type": "code",
      "source": [
        "from google.colab import drive\n",
        "drive.mount('/content/drive')"
      ],
      "metadata": {
        "colab": {
          "base_uri": "https://localhost:8080/"
        },
        "id": "xX_qDpB0kRoD",
        "outputId": "46875fc4-3e55-4d0c-93c1-bb5b3615e1c5"
      },
      "execution_count": null,
      "outputs": [
        {
          "output_type": "stream",
          "name": "stdout",
          "text": [
            "Drive already mounted at /content/drive; to attempt to forcibly remount, call drive.mount(\"/content/drive\", force_remount=True).\n"
          ]
        }
      ]
    },
    {
      "cell_type": "markdown",
      "source": [
        "Importing Dataset"
      ],
      "metadata": {
        "id": "UAeTdABpK2dd"
      }
    },
    {
      "cell_type": "code",
      "source": [
        "boss = pd.read_csv(\"/content/drive/MyDrive/HousingData.csv\")"
      ],
      "metadata": {
        "id": "Y2J3Akh5KVgx"
      },
      "execution_count": null,
      "outputs": []
    },
    {
      "cell_type": "markdown",
      "source": [
        "info prints information about a DataFrame including the index dtype and columns, non-null values and memory usage."
      ],
      "metadata": {
        "id": "4jFbM4YFK7Cp"
      }
    },
    {
      "cell_type": "code",
      "source": [
        "boss"
      ],
      "metadata": {
        "colab": {
          "base_uri": "https://localhost:8080/",
          "height": 424
        },
        "id": "gw6TF4hDqDmx",
        "outputId": "23b1489f-3e8f-4cc4-d285-5a7fd10e9308"
      },
      "execution_count": null,
      "outputs": [
        {
          "output_type": "execute_result",
          "data": {
            "text/plain": [
              "        CRIM    ZN  INDUS  CHAS    NOX     RM    AGE     DIS  RAD  TAX  \\\n",
              "0    0.00632  18.0   2.31     0  0.538  6.575  65.20  4.0900    1  296   \n",
              "1    0.02731   0.0   7.07     0  0.469  6.421  78.90  4.9671    2  242   \n",
              "2    0.02729   0.0   7.07     0  0.469  7.185  61.10  4.9671    2  242   \n",
              "3    0.03237   0.0   2.18     0  0.458  6.998  45.80  6.0622    3  222   \n",
              "4    0.06905   0.0   2.18     0  0.458  7.147  54.20  6.0622    3  222   \n",
              "..       ...   ...    ...   ...    ...    ...    ...     ...  ...  ...   \n",
              "501  0.06263   0.0  11.93     0  0.573  6.593  69.10  2.4786    1  273   \n",
              "502  0.04527   0.0  11.93     0  0.573  6.120  76.70  2.2875    1  273   \n",
              "503  0.06076   0.0  11.93     0  0.573  6.976  91.00  2.1675    1  273   \n",
              "504  0.10959   0.0  11.93     0  0.573  6.794  89.30  2.3889    1  273   \n",
              "505  0.04741   0.0  11.93     0  0.573  6.030  87.56  2.5050    1  273   \n",
              "\n",
              "     PTRATIO       B   LSTAT  MEDV  \n",
              "0       15.3  396.90   4.980  24.0  \n",
              "1       17.8  396.90   9.140  21.6  \n",
              "2       17.8  392.83   4.030  34.7  \n",
              "3       18.7  394.63   2.940  33.4  \n",
              "4       18.7  396.90   3.023  36.2  \n",
              "..       ...     ...     ...   ...  \n",
              "501     21.0  391.99  13.250  22.4  \n",
              "502     21.0  396.90   9.080  20.6  \n",
              "503     21.0  396.90   5.640  23.9  \n",
              "504     21.0  393.45   6.480  22.0  \n",
              "505     21.0  396.90   7.880  11.9  \n",
              "\n",
              "[506 rows x 14 columns]"
            ],
            "text/html": [
              "\n",
              "  <div id=\"df-745e1e48-6046-4dd2-b11d-92463bcc8c4a\">\n",
              "    <div class=\"colab-df-container\">\n",
              "      <div>\n",
              "<style scoped>\n",
              "    .dataframe tbody tr th:only-of-type {\n",
              "        vertical-align: middle;\n",
              "    }\n",
              "\n",
              "    .dataframe tbody tr th {\n",
              "        vertical-align: top;\n",
              "    }\n",
              "\n",
              "    .dataframe thead th {\n",
              "        text-align: right;\n",
              "    }\n",
              "</style>\n",
              "<table border=\"1\" class=\"dataframe\">\n",
              "  <thead>\n",
              "    <tr style=\"text-align: right;\">\n",
              "      <th></th>\n",
              "      <th>CRIM</th>\n",
              "      <th>ZN</th>\n",
              "      <th>INDUS</th>\n",
              "      <th>CHAS</th>\n",
              "      <th>NOX</th>\n",
              "      <th>RM</th>\n",
              "      <th>AGE</th>\n",
              "      <th>DIS</th>\n",
              "      <th>RAD</th>\n",
              "      <th>TAX</th>\n",
              "      <th>PTRATIO</th>\n",
              "      <th>B</th>\n",
              "      <th>LSTAT</th>\n",
              "      <th>MEDV</th>\n",
              "    </tr>\n",
              "  </thead>\n",
              "  <tbody>\n",
              "    <tr>\n",
              "      <th>0</th>\n",
              "      <td>0.00632</td>\n",
              "      <td>18.0</td>\n",
              "      <td>2.31</td>\n",
              "      <td>0</td>\n",
              "      <td>0.538</td>\n",
              "      <td>6.575</td>\n",
              "      <td>65.20</td>\n",
              "      <td>4.0900</td>\n",
              "      <td>1</td>\n",
              "      <td>296</td>\n",
              "      <td>15.3</td>\n",
              "      <td>396.90</td>\n",
              "      <td>4.980</td>\n",
              "      <td>24.0</td>\n",
              "    </tr>\n",
              "    <tr>\n",
              "      <th>1</th>\n",
              "      <td>0.02731</td>\n",
              "      <td>0.0</td>\n",
              "      <td>7.07</td>\n",
              "      <td>0</td>\n",
              "      <td>0.469</td>\n",
              "      <td>6.421</td>\n",
              "      <td>78.90</td>\n",
              "      <td>4.9671</td>\n",
              "      <td>2</td>\n",
              "      <td>242</td>\n",
              "      <td>17.8</td>\n",
              "      <td>396.90</td>\n",
              "      <td>9.140</td>\n",
              "      <td>21.6</td>\n",
              "    </tr>\n",
              "    <tr>\n",
              "      <th>2</th>\n",
              "      <td>0.02729</td>\n",
              "      <td>0.0</td>\n",
              "      <td>7.07</td>\n",
              "      <td>0</td>\n",
              "      <td>0.469</td>\n",
              "      <td>7.185</td>\n",
              "      <td>61.10</td>\n",
              "      <td>4.9671</td>\n",
              "      <td>2</td>\n",
              "      <td>242</td>\n",
              "      <td>17.8</td>\n",
              "      <td>392.83</td>\n",
              "      <td>4.030</td>\n",
              "      <td>34.7</td>\n",
              "    </tr>\n",
              "    <tr>\n",
              "      <th>3</th>\n",
              "      <td>0.03237</td>\n",
              "      <td>0.0</td>\n",
              "      <td>2.18</td>\n",
              "      <td>0</td>\n",
              "      <td>0.458</td>\n",
              "      <td>6.998</td>\n",
              "      <td>45.80</td>\n",
              "      <td>6.0622</td>\n",
              "      <td>3</td>\n",
              "      <td>222</td>\n",
              "      <td>18.7</td>\n",
              "      <td>394.63</td>\n",
              "      <td>2.940</td>\n",
              "      <td>33.4</td>\n",
              "    </tr>\n",
              "    <tr>\n",
              "      <th>4</th>\n",
              "      <td>0.06905</td>\n",
              "      <td>0.0</td>\n",
              "      <td>2.18</td>\n",
              "      <td>0</td>\n",
              "      <td>0.458</td>\n",
              "      <td>7.147</td>\n",
              "      <td>54.20</td>\n",
              "      <td>6.0622</td>\n",
              "      <td>3</td>\n",
              "      <td>222</td>\n",
              "      <td>18.7</td>\n",
              "      <td>396.90</td>\n",
              "      <td>3.023</td>\n",
              "      <td>36.2</td>\n",
              "    </tr>\n",
              "    <tr>\n",
              "      <th>...</th>\n",
              "      <td>...</td>\n",
              "      <td>...</td>\n",
              "      <td>...</td>\n",
              "      <td>...</td>\n",
              "      <td>...</td>\n",
              "      <td>...</td>\n",
              "      <td>...</td>\n",
              "      <td>...</td>\n",
              "      <td>...</td>\n",
              "      <td>...</td>\n",
              "      <td>...</td>\n",
              "      <td>...</td>\n",
              "      <td>...</td>\n",
              "      <td>...</td>\n",
              "    </tr>\n",
              "    <tr>\n",
              "      <th>501</th>\n",
              "      <td>0.06263</td>\n",
              "      <td>0.0</td>\n",
              "      <td>11.93</td>\n",
              "      <td>0</td>\n",
              "      <td>0.573</td>\n",
              "      <td>6.593</td>\n",
              "      <td>69.10</td>\n",
              "      <td>2.4786</td>\n",
              "      <td>1</td>\n",
              "      <td>273</td>\n",
              "      <td>21.0</td>\n",
              "      <td>391.99</td>\n",
              "      <td>13.250</td>\n",
              "      <td>22.4</td>\n",
              "    </tr>\n",
              "    <tr>\n",
              "      <th>502</th>\n",
              "      <td>0.04527</td>\n",
              "      <td>0.0</td>\n",
              "      <td>11.93</td>\n",
              "      <td>0</td>\n",
              "      <td>0.573</td>\n",
              "      <td>6.120</td>\n",
              "      <td>76.70</td>\n",
              "      <td>2.2875</td>\n",
              "      <td>1</td>\n",
              "      <td>273</td>\n",
              "      <td>21.0</td>\n",
              "      <td>396.90</td>\n",
              "      <td>9.080</td>\n",
              "      <td>20.6</td>\n",
              "    </tr>\n",
              "    <tr>\n",
              "      <th>503</th>\n",
              "      <td>0.06076</td>\n",
              "      <td>0.0</td>\n",
              "      <td>11.93</td>\n",
              "      <td>0</td>\n",
              "      <td>0.573</td>\n",
              "      <td>6.976</td>\n",
              "      <td>91.00</td>\n",
              "      <td>2.1675</td>\n",
              "      <td>1</td>\n",
              "      <td>273</td>\n",
              "      <td>21.0</td>\n",
              "      <td>396.90</td>\n",
              "      <td>5.640</td>\n",
              "      <td>23.9</td>\n",
              "    </tr>\n",
              "    <tr>\n",
              "      <th>504</th>\n",
              "      <td>0.10959</td>\n",
              "      <td>0.0</td>\n",
              "      <td>11.93</td>\n",
              "      <td>0</td>\n",
              "      <td>0.573</td>\n",
              "      <td>6.794</td>\n",
              "      <td>89.30</td>\n",
              "      <td>2.3889</td>\n",
              "      <td>1</td>\n",
              "      <td>273</td>\n",
              "      <td>21.0</td>\n",
              "      <td>393.45</td>\n",
              "      <td>6.480</td>\n",
              "      <td>22.0</td>\n",
              "    </tr>\n",
              "    <tr>\n",
              "      <th>505</th>\n",
              "      <td>0.04741</td>\n",
              "      <td>0.0</td>\n",
              "      <td>11.93</td>\n",
              "      <td>0</td>\n",
              "      <td>0.573</td>\n",
              "      <td>6.030</td>\n",
              "      <td>87.56</td>\n",
              "      <td>2.5050</td>\n",
              "      <td>1</td>\n",
              "      <td>273</td>\n",
              "      <td>21.0</td>\n",
              "      <td>396.90</td>\n",
              "      <td>7.880</td>\n",
              "      <td>11.9</td>\n",
              "    </tr>\n",
              "  </tbody>\n",
              "</table>\n",
              "<p>506 rows × 14 columns</p>\n",
              "</div>\n",
              "      <button class=\"colab-df-convert\" onclick=\"convertToInteractive('df-745e1e48-6046-4dd2-b11d-92463bcc8c4a')\"\n",
              "              title=\"Convert this dataframe to an interactive table.\"\n",
              "              style=\"display:none;\">\n",
              "        \n",
              "  <svg xmlns=\"http://www.w3.org/2000/svg\" height=\"24px\"viewBox=\"0 0 24 24\"\n",
              "       width=\"24px\">\n",
              "    <path d=\"M0 0h24v24H0V0z\" fill=\"none\"/>\n",
              "    <path d=\"M18.56 5.44l.94 2.06.94-2.06 2.06-.94-2.06-.94-.94-2.06-.94 2.06-2.06.94zm-11 1L8.5 8.5l.94-2.06 2.06-.94-2.06-.94L8.5 2.5l-.94 2.06-2.06.94zm10 10l.94 2.06.94-2.06 2.06-.94-2.06-.94-.94-2.06-.94 2.06-2.06.94z\"/><path d=\"M17.41 7.96l-1.37-1.37c-.4-.4-.92-.59-1.43-.59-.52 0-1.04.2-1.43.59L10.3 9.45l-7.72 7.72c-.78.78-.78 2.05 0 2.83L4 21.41c.39.39.9.59 1.41.59.51 0 1.02-.2 1.41-.59l7.78-7.78 2.81-2.81c.8-.78.8-2.07 0-2.86zM5.41 20L4 18.59l7.72-7.72 1.47 1.35L5.41 20z\"/>\n",
              "  </svg>\n",
              "      </button>\n",
              "      \n",
              "  <style>\n",
              "    .colab-df-container {\n",
              "      display:flex;\n",
              "      flex-wrap:wrap;\n",
              "      gap: 12px;\n",
              "    }\n",
              "\n",
              "    .colab-df-convert {\n",
              "      background-color: #E8F0FE;\n",
              "      border: none;\n",
              "      border-radius: 50%;\n",
              "      cursor: pointer;\n",
              "      display: none;\n",
              "      fill: #1967D2;\n",
              "      height: 32px;\n",
              "      padding: 0 0 0 0;\n",
              "      width: 32px;\n",
              "    }\n",
              "\n",
              "    .colab-df-convert:hover {\n",
              "      background-color: #E2EBFA;\n",
              "      box-shadow: 0px 1px 2px rgba(60, 64, 67, 0.3), 0px 1px 3px 1px rgba(60, 64, 67, 0.15);\n",
              "      fill: #174EA6;\n",
              "    }\n",
              "\n",
              "    [theme=dark] .colab-df-convert {\n",
              "      background-color: #3B4455;\n",
              "      fill: #D2E3FC;\n",
              "    }\n",
              "\n",
              "    [theme=dark] .colab-df-convert:hover {\n",
              "      background-color: #434B5C;\n",
              "      box-shadow: 0px 1px 3px 1px rgba(0, 0, 0, 0.15);\n",
              "      filter: drop-shadow(0px 1px 2px rgba(0, 0, 0, 0.3));\n",
              "      fill: #FFFFFF;\n",
              "    }\n",
              "  </style>\n",
              "\n",
              "      <script>\n",
              "        const buttonEl =\n",
              "          document.querySelector('#df-745e1e48-6046-4dd2-b11d-92463bcc8c4a button.colab-df-convert');\n",
              "        buttonEl.style.display =\n",
              "          google.colab.kernel.accessAllowed ? 'block' : 'none';\n",
              "\n",
              "        async function convertToInteractive(key) {\n",
              "          const element = document.querySelector('#df-745e1e48-6046-4dd2-b11d-92463bcc8c4a');\n",
              "          const dataTable =\n",
              "            await google.colab.kernel.invokeFunction('convertToInteractive',\n",
              "                                                     [key], {});\n",
              "          if (!dataTable) return;\n",
              "\n",
              "          const docLinkHtml = 'Like what you see? Visit the ' +\n",
              "            '<a target=\"_blank\" href=https://colab.research.google.com/notebooks/data_table.ipynb>data table notebook</a>'\n",
              "            + ' to learn more about interactive tables.';\n",
              "          element.innerHTML = '';\n",
              "          dataTable['output_type'] = 'display_data';\n",
              "          await google.colab.output.renderOutput(dataTable, element);\n",
              "          const docLink = document.createElement('div');\n",
              "          docLink.innerHTML = docLinkHtml;\n",
              "          element.appendChild(docLink);\n",
              "        }\n",
              "      </script>\n",
              "    </div>\n",
              "  </div>\n",
              "  "
            ]
          },
          "metadata": {},
          "execution_count": 5
        }
      ]
    },
    {
      "cell_type": "code",
      "source": [
        "boss.info"
      ],
      "metadata": {
        "colab": {
          "base_uri": "https://localhost:8080/"
        },
        "id": "g2lqhbq2KVet",
        "outputId": "61259304-f2a1-4e91-d48b-5a30ca3e00d8"
      },
      "execution_count": null,
      "outputs": [
        {
          "output_type": "execute_result",
          "data": {
            "text/plain": [
              "<bound method DataFrame.info of         CRIM    ZN  INDUS  CHAS    NOX     RM    AGE     DIS  RAD  TAX  \\\n",
              "0    0.00632  18.0   2.31     0  0.538  6.575  65.20  4.0900    1  296   \n",
              "1    0.02731   0.0   7.07     0  0.469  6.421  78.90  4.9671    2  242   \n",
              "2    0.02729   0.0   7.07     0  0.469  7.185  61.10  4.9671    2  242   \n",
              "3    0.03237   0.0   2.18     0  0.458  6.998  45.80  6.0622    3  222   \n",
              "4    0.06905   0.0   2.18     0  0.458  7.147  54.20  6.0622    3  222   \n",
              "..       ...   ...    ...   ...    ...    ...    ...     ...  ...  ...   \n",
              "501  0.06263   0.0  11.93     0  0.573  6.593  69.10  2.4786    1  273   \n",
              "502  0.04527   0.0  11.93     0  0.573  6.120  76.70  2.2875    1  273   \n",
              "503  0.06076   0.0  11.93     0  0.573  6.976  91.00  2.1675    1  273   \n",
              "504  0.10959   0.0  11.93     0  0.573  6.794  89.30  2.3889    1  273   \n",
              "505  0.04741   0.0  11.93     0  0.573  6.030  87.56  2.5050    1  273   \n",
              "\n",
              "     PTRATIO       B   LSTAT  MEDV  \n",
              "0       15.3  396.90   4.980  24.0  \n",
              "1       17.8  396.90   9.140  21.6  \n",
              "2       17.8  392.83   4.030  34.7  \n",
              "3       18.7  394.63   2.940  33.4  \n",
              "4       18.7  396.90   3.023  36.2  \n",
              "..       ...     ...     ...   ...  \n",
              "501     21.0  391.99  13.250  22.4  \n",
              "502     21.0  396.90   9.080  20.6  \n",
              "503     21.0  396.90   5.640  23.9  \n",
              "504     21.0  393.45   6.480  22.0  \n",
              "505     21.0  396.90   7.880  11.9  \n",
              "\n",
              "[506 rows x 14 columns]>"
            ]
          },
          "metadata": {},
          "execution_count": 6
        }
      ]
    },
    {
      "cell_type": "markdown",
      "source": [
        "printing the rows and columns in dataset using shape property"
      ],
      "metadata": {
        "id": "SlYBJlMXLTsA"
      }
    },
    {
      "cell_type": "code",
      "source": [
        "boss.shape"
      ],
      "metadata": {
        "colab": {
          "base_uri": "https://localhost:8080/"
        },
        "id": "YNZQ9tS6LKr4",
        "outputId": "ab1dcfde-647e-4fbd-ddaa-4acc4caca78b"
      },
      "execution_count": null,
      "outputs": [
        {
          "output_type": "execute_result",
          "data": {
            "text/plain": [
              "(506, 14)"
            ]
          },
          "metadata": {},
          "execution_count": 7
        }
      ]
    },
    {
      "cell_type": "markdown",
      "source": [
        "Printing the number of null records in dataset"
      ],
      "metadata": {
        "id": "g-F6id_LLlWw"
      }
    },
    {
      "cell_type": "code",
      "source": [
        "boss.isna().sum()"
      ],
      "metadata": {
        "colab": {
          "base_uri": "https://localhost:8080/"
        },
        "id": "-lSRyphKLKqE",
        "outputId": "2fefb7d3-510e-4ef3-e0c7-642c34f0843e"
      },
      "execution_count": null,
      "outputs": [
        {
          "output_type": "execute_result",
          "data": {
            "text/plain": [
              "CRIM       0\n",
              "ZN         0\n",
              "INDUS      0\n",
              "CHAS       0\n",
              "NOX        0\n",
              "RM         0\n",
              "AGE        0\n",
              "DIS        0\n",
              "RAD        0\n",
              "TAX        0\n",
              "PTRATIO    0\n",
              "B          0\n",
              "LSTAT      0\n",
              "MEDV       0\n",
              "dtype: int64"
            ]
          },
          "metadata": {},
          "execution_count": 8
        }
      ]
    },
    {
      "cell_type": "markdown",
      "source": [
        "Splitting data into training and testing data"
      ],
      "metadata": {
        "id": "UiMpT08QL4_F"
      }
    },
    {
      "cell_type": "code",
      "source": [
        "from sklearn.model_selection import train_test_split\n",
        "x = np.array(boss.iloc[:, 0:13])\n",
        "y = np.array(boss[\"MEDV\"])\n",
        "x_train, x_test,y_train,y_test = train_test_split(x,y,test_size = 0.3, random_state = 101)\n",
        "x_train"
      ],
      "metadata": {
        "id": "aZ1fPlCMLUZH",
        "colab": {
          "base_uri": "https://localhost:8080/"
        },
        "outputId": "d9518a71-88ee-4452-eb28-c3e129d6b907"
      },
      "execution_count": null,
      "outputs": [
        {
          "output_type": "execute_result",
          "data": {
            "text/plain": [
              "array([[2.00900e-02, 9.50000e+01, 2.68000e+00, ..., 1.47000e+01,\n",
              "        3.90550e+02, 2.88000e+00],\n",
              "       [6.53876e+00, 0.00000e+00, 1.81000e+01, ..., 2.02000e+01,\n",
              "        3.92050e+02, 2.96000e+00],\n",
              "       [3.67367e+00, 0.00000e+00, 1.81000e+01, ..., 2.02000e+01,\n",
              "        3.88620e+02, 1.05800e+01],\n",
              "       ...,\n",
              "       [3.04100e-02, 0.00000e+00, 5.19000e+00, ..., 2.02000e+01,\n",
              "        3.94810e+02, 1.05600e+01],\n",
              "       [1.17470e-01, 1.25000e+01, 7.87000e+00, ..., 1.52000e+01,\n",
              "        3.96900e+02, 1.32700e+01],\n",
              "       [7.95000e-02, 6.00000e+01, 1.69000e+00, ..., 1.83000e+01,\n",
              "        3.70780e+02, 5.49000e+00]])"
            ]
          },
          "metadata": {},
          "execution_count": 16
        }
      ]
    },
    {
      "cell_type": "markdown",
      "source": [
        "Importing KNeighborsRegressor from sklearn's submodule neighbors"
      ],
      "metadata": {
        "id": "CQiy0YGbMhqW"
      }
    },
    {
      "cell_type": "code",
      "source": [
        "from sklearn.neighbors import KNeighborsRegressor"
      ],
      "metadata": {
        "id": "SlGiQEcAL7ww"
      },
      "execution_count": null,
      "outputs": []
    },
    {
      "cell_type": "markdown",
      "source": [
        "Creating KNeighborsRegressor object and passing value of k as 3"
      ],
      "metadata": {
        "id": "QEBY7Kw_M-9B"
      }
    },
    {
      "cell_type": "code",
      "source": [
        "Nn = KNeighborsRegressor(3)\n",
        "Nn.fit(x_train,y_train)\n",
        "y_pred = Nn.predict(x_test)"
      ],
      "metadata": {
        "id": "4TwGc7b5L7uS"
      },
      "execution_count": null,
      "outputs": []
    },
    {
      "cell_type": "markdown",
      "source": [
        "Here we are printing the values of Errors for different values of k that is number of nearest neighbors"
      ],
      "metadata": {
        "id": "fQQFeVpHNKe2"
      }
    },
    {
      "cell_type": "code",
      "source": [
        "import sklearn\n",
        "X_axis = [i for i in range(1,50)]\n",
        "Y_axis = []\n",
        "for i in range(1,50):\n",
        "  model = KNeighborsRegressor(i)\n",
        "  model.fit(x_train,y_train)\n",
        "  pred_y = model.predict(x_test)\n",
        "  mse = sklearn.metrics.mean_squared_error(y_test, pred_y,squared = False)\n",
        "  Y_axis.append(mse)\n",
        "  print(f\"Error for k({i}) = {mse}\")"
      ],
      "metadata": {
        "colab": {
          "base_uri": "https://localhost:8080/"
        },
        "id": "G8RbhFqmNVd7",
        "outputId": "61438e6b-94b7-4573-be9f-ae0631ae6580"
      },
      "execution_count": null,
      "outputs": [
        {
          "output_type": "stream",
          "name": "stdout",
          "text": [
            "Error for k(1) = 8.144319137320585\n",
            "Error for k(2) = 7.362913825381905\n",
            "Error for k(3) = 7.277389782523925\n",
            "Error for k(4) = 7.324251690715398\n",
            "Error for k(5) = 7.090369116662849\n",
            "Error for k(6) = 7.102725776087121\n",
            "Error for k(7) = 7.30945380518836\n",
            "Error for k(8) = 7.317548864310983\n",
            "Error for k(9) = 7.392106980694685\n",
            "Error for k(10) = 7.481613207337742\n",
            "Error for k(11) = 7.500046469335524\n",
            "Error for k(12) = 7.582445033041358\n",
            "Error for k(13) = 7.589712484434928\n",
            "Error for k(14) = 7.645194836958641\n",
            "Error for k(15) = 7.6903280563338186\n",
            "Error for k(16) = 7.731008687278757\n",
            "Error for k(17) = 7.808745546595389\n",
            "Error for k(18) = 7.908051316563778\n",
            "Error for k(19) = 7.986393072209404\n",
            "Error for k(20) = 8.083727146086044\n",
            "Error for k(21) = 8.131958448603278\n",
            "Error for k(22) = 8.15213439263009\n",
            "Error for k(23) = 8.165108442088053\n",
            "Error for k(24) = 8.172955797027218\n",
            "Error for k(25) = 8.174827253928914\n",
            "Error for k(26) = 8.200062968089275\n",
            "Error for k(27) = 8.188625245151366\n",
            "Error for k(28) = 8.21928578616089\n",
            "Error for k(29) = 8.259039679022967\n",
            "Error for k(30) = 8.312503977046932\n",
            "Error for k(31) = 8.339044964245772\n",
            "Error for k(32) = 8.37050264271349\n",
            "Error for k(33) = 8.398740609221418\n",
            "Error for k(34) = 8.404693854644155\n",
            "Error for k(35) = 8.440047752752545\n",
            "Error for k(36) = 8.44919738821598\n",
            "Error for k(37) = 8.452813526545556\n",
            "Error for k(38) = 8.469207373143284\n",
            "Error for k(39) = 8.457932133380536\n",
            "Error for k(40) = 8.476594184697028\n",
            "Error for k(41) = 8.49213916538012\n",
            "Error for k(42) = 8.515849730791807\n",
            "Error for k(43) = 8.550878797867549\n",
            "Error for k(44) = 8.585718081182957\n",
            "Error for k(45) = 8.624052476887334\n",
            "Error for k(46) = 8.648133232431146\n",
            "Error for k(47) = 8.662996363053388\n",
            "Error for k(48) = 8.668717037345047\n",
            "Error for k(49) = 8.677202038484873\n"
          ]
        }
      ]
    },
    {
      "cell_type": "markdown",
      "source": [
        "Creating scatter plot between Number of nearest neighbours and mean sqaured error."
      ],
      "metadata": {
        "id": "yFBsK4QQQOwq"
      }
    },
    {
      "cell_type": "code",
      "source": [
        "plt.scatter(X_axis, Y_axis, marker = '*')\n",
        "plt.xlabel(\"K\")\n",
        "plt.ylabel(\"MSE\")\n",
        "plt.show()"
      ],
      "metadata": {
        "colab": {
          "base_uri": "https://localhost:8080/",
          "height": 279
        },
        "id": "3HYTNos3SYCX",
        "outputId": "4c12255f-cd85-412f-d82d-cb80b631a6f9"
      },
      "execution_count": null,
      "outputs": [
        {
          "output_type": "display_data",
          "data": {
            "text/plain": [
              "<Figure size 432x288 with 1 Axes>"
            ],
            "image/png": "[encoded data removed]"
          },
          "metadata": {
            "needs_background": "light"
          }
        }
      ]
    },
    {
      "cell_type": "code",
      "source": [
        "r2_score(y_test, y_pred)"
      ],
      "metadata": {
        "colab": {
          "base_uri": "https://localhost:8080/"
        },
        "id": "bETpxUp36pJV",
        "outputId": "00573129-5ac3-434c-db4b-c900e97aad79"
      },
      "execution_count": null,
      "outputs": [
        {
          "output_type": "execute_result",
          "data": {
            "text/plain": [
              "0.4664485393253689"
            ]
          },
          "metadata": {},
          "execution_count": 14
        }
      ]
    },
    {
      "cell_type": "markdown",
      "source": [
        "# Conclusion"
      ],
      "metadata": {
        "id": "Hf1RXXBKQ_L0"
      }
    },
    {
      "cell_type": "markdown",
      "source": [
        "For the given dataset, if we take k = 5 (number of nearest neighbors), the model has least error that is 6.744 appx."
      ],
      "metadata": {
        "id": "NzPOPufZRA1B"
      }
    }
  ]
}