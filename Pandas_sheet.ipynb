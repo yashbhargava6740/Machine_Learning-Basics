{
 "cells": [
  {
   "cell_type": "code",
   "execution_count": 112,
   "metadata": {},
   "outputs": [],
   "source": [
    "import numpy as np\n",
    "import pandas as pd"
   ]
  },
  {
   "cell_type": "code",
   "execution_count": 113,
   "metadata": {},
   "outputs": [
    {
     "name": "stdout",
     "output_type": "stream",
     "text": [
      "0     hello\n",
      "1     world\n",
      "2    python\n",
      "dtype: object "
     ]
    }
   ],
   "source": [
    "data = np.array([\"hello\", \"world\", \"python\"])\n",
    "x = pd.Series(data)\n",
    "print(x, end = ' ')"
   ]
  },
  {
   "cell_type": "code",
   "execution_count": 114,
   "metadata": {},
   "outputs": [
    {
     "name": "stdout",
     "output_type": "stream",
     "text": [
      "        0\n",
      "0   hello\n",
      "1   world\n",
      "2  python\n"
     ]
    }
   ],
   "source": [
    "data = np.array([\"hello\", \"world\", \"python\"])\n",
    "x = pd.DataFrame(data)\n",
    "print(x)"
   ]
  },
  {
   "cell_type": "code",
   "execution_count": 115,
   "metadata": {},
   "outputs": [
    {
     "name": "stdout",
     "output_type": "stream",
     "text": [
      "   string\n",
      "0   hello\n",
      "1   world\n",
      "2  python\n"
     ]
    }
   ],
   "source": [
    "data = np.array([\"hello\", \"world\", \"python\"])\n",
    "x = pd.DataFrame(data, columns = [\"string\"])\n",
    "print(x)"
   ]
  },
  {
   "cell_type": "code",
   "execution_count": 116,
   "metadata": {},
   "outputs": [
    {
     "name": "stdout",
     "output_type": "stream",
     "text": [
      "0      alex\n",
      "1       bob\n",
      "2    clarke\n",
      "Name: 0, dtype: object\n"
     ]
    }
   ],
   "source": [
    "data = np.array([[\"alex\", 10], ['bob', 12], ['clarke', 13]])\n",
    "x = pd.DataFrame(data)\n",
    "print(x[0])"
   ]
  },
  {
   "cell_type": "code",
   "execution_count": 117,
   "metadata": {},
   "outputs": [
    {
     "name": "stdout",
     "output_type": "stream",
     "text": [
      "                Name      RollNo\n",
      "First-Name      Yash         NaN\n",
      "Last-Name   Bhargava         NaN\n",
      "University       NaN  2115500160\n",
      "Class            NaN          53\n"
     ]
    }
   ],
   "source": [
    "data = {'Name': {'First-Name' : 'Yash', 'Last-Name' : 'Bhargava'}, 'RollNo' : {'University' : '2115500160', 'Class' : 53}}\n",
    "x = pd.DataFrame(data)\n",
    "print(x)"
   ]
  },
  {
   "cell_type": "code",
   "execution_count": 118,
   "metadata": {},
   "outputs": [
    {
     "name": "stdout",
     "output_type": "stream",
     "text": [
      "         Number  Squares  Cubes\n",
      "First         1        1      1\n",
      "Second        2        4      8\n",
      "Third         3        9      7\n",
      "Fourth        4       16     64\n",
      "Fifth         5       25    125\n",
      "Sixth         6       36    216\n",
      "Seventh       7       29    343\n"
     ]
    }
   ],
   "source": [
    "top_labels = np.array(['Number','Squares', 'Cubes'])\n",
    "side_indexs = np.array(['First', 'Second', 'Third', 'Fourth', 'Fifth', 'Sixth', 'Seventh'])\n",
    "values = np.array([[1,1,1], [2,4,8],[3,9,7], [4,16,64], [5,25,125], [6,36,216], [7,29,343]])\n",
    "x = pd.DataFrame(values, index = side_indexs, columns = top_labels)\n",
    "print(x)"
   ]
  },
  {
   "cell_type": "code",
   "execution_count": 119,
   "metadata": {},
   "outputs": [
    {
     "name": "stdout",
     "output_type": "stream",
     "text": [
      "    Duration  Pulse  Maxpulse  Calories       DOB\n",
      "0       60.0  110.0     130.0     409.1  5/5/1975\n",
      "1       60.0  117.0     145.0     479.0  5/5/1975\n",
      "2       60.0  103.0     135.0     340.0       NaN\n",
      "3       45.0  109.0     175.0     282.4  5/7/1975\n",
      "4       45.0  117.0     148.0     406.0  9/8/1989\n",
      "..       ...    ...       ...       ...       ...\n",
      "95      20.0  151.0     168.0     229.4  4/5/1987\n",
      "96      30.0   95.0     128.0     128.2  4/6/1987\n",
      "97      25.0  152.0     168.0     244.2  4/7/1987\n",
      "98      30.0  109.0     131.0     188.2  4/8/1987\n",
      "99      90.0   93.0     124.0     604.1  4/9/1987\n",
      "\n",
      "[100 rows x 5 columns]\n",
      "     Duration  Pulse  Maxpulse  Calories  DOB\n",
      "211       NaN    NaN       NaN       NaN  NaN\n",
      "212       NaN    NaN       NaN       NaN  NaN\n",
      "213       NaN    NaN       NaN       NaN  NaN\n",
      "214       NaN    NaN       NaN       NaN  NaN\n",
      "215       NaN    NaN       NaN       NaN  NaN\n",
      "..        ...    ...       ...       ...  ...\n",
      "306       NaN    NaN       NaN       NaN  NaN\n",
      "307       NaN    NaN       NaN       NaN  NaN\n",
      "308       NaN    NaN       NaN       NaN  NaN\n",
      "309       NaN    NaN       NaN       NaN  NaN\n",
      "310       NaN    NaN       NaN       NaN  NaN\n",
      "\n",
      "[100 rows x 5 columns]\n"
     ]
    }
   ],
   "source": [
    "df = pd.read_csv(\"data_panda.csv\")\n",
    "df1 = pd.DataFrame(df)\n",
    "print(df1.head(100))\n",
    "print(df1.tail(100))"
   ]
  },
  {
   "cell_type": "code",
   "execution_count": 120,
   "metadata": {},
   "outputs": [
    {
     "name": "stdout",
     "output_type": "stream",
     "text": [
      "<class 'pandas.core.frame.DataFrame'>\n",
      "RangeIndex: 311 entries, 0 to 310\n",
      "Data columns (total 5 columns):\n",
      " #   Column    Non-Null Count  Dtype  \n",
      "---  ------    --------------  -----  \n",
      " 0   Duration  169 non-null    float64\n",
      " 1   Pulse     169 non-null    float64\n",
      " 2   Maxpulse  167 non-null    float64\n",
      " 3   Calories  164 non-null    float64\n",
      " 4   DOB       168 non-null    object \n",
      "dtypes: float64(4), object(1)\n",
      "memory usage: 12.3+ KB\n"
     ]
    }
   ],
   "source": [
    "df.info()"
   ]
  },
  {
   "cell_type": "code",
   "execution_count": 125,
   "metadata": {},
   "outputs": [
    {
     "name": "stdout",
     "output_type": "stream",
     "text": [
      "<class 'pandas.core.frame.DataFrame'>\n",
      "RangeIndex: 311 entries, 0 to 310\n",
      "Data columns (total 5 columns):\n",
      " #   Column    Non-Null Count  Dtype  \n",
      "---  ------    --------------  -----  \n",
      " 0   Duration  169 non-null    float64\n",
      " 1   Pulse     169 non-null    float64\n",
      " 2   Maxpulse  167 non-null    float64\n",
      " 3   Calories  164 non-null    float64\n",
      " 4   DOB       168 non-null    object \n",
      "dtypes: float64(4), object(1)\n",
      "memory usage: 12.3+ KB\n",
      "<class 'pandas.core.frame.DataFrame'>\n",
      "RangeIndex: 311 entries, 0 to 310\n",
      "Data columns (total 5 columns):\n",
      " #   Column    Non-Null Count  Dtype  \n",
      "---  ------    --------------  -----  \n",
      " 0   Duration  169 non-null    float64\n",
      " 1   Pulse     169 non-null    float64\n",
      " 2   Maxpulse  167 non-null    float64\n",
      " 3   Calories  164 non-null    float64\n",
      " 4   DOB       168 non-null    object \n",
      "dtypes: float64(4), object(1)\n",
      "memory usage: 12.3+ KB\n"
     ]
    }
   ],
   "source": [
    "df1 = df\n",
    "df.info()\n",
    "df1.dropna()\n",
    "df.info()\n",
    "#df1\n",
    "#df"
   ]
  },
  {
   "cell_type": "code",
   "execution_count": 128,
   "metadata": {},
   "outputs": [
    {
     "data": {
      "text/html": [
       "<div>\n",
       "<style scoped>\n",
       "    .dataframe tbody tr th:only-of-type {\n",
       "        vertical-align: middle;\n",
       "    }\n",
       "\n",
       "    .dataframe tbody tr th {\n",
       "        vertical-align: top;\n",
       "    }\n",
       "\n",
       "    .dataframe thead th {\n",
       "        text-align: right;\n",
       "    }\n",
       "</style>\n",
       "<table border=\"1\" class=\"dataframe\">\n",
       "  <thead>\n",
       "    <tr style=\"text-align: right;\">\n",
       "      <th></th>\n",
       "      <th>Duration</th>\n",
       "      <th>Pulse</th>\n",
       "      <th>Maxpulse</th>\n",
       "      <th>Calories</th>\n",
       "      <th>DOB</th>\n",
       "    </tr>\n",
       "  </thead>\n",
       "  <tbody>\n",
       "    <tr>\n",
       "      <th>0</th>\n",
       "      <td>60.000000</td>\n",
       "      <td>110.000000</td>\n",
       "      <td>130.000000</td>\n",
       "      <td>409.100000</td>\n",
       "      <td>5/5/1975</td>\n",
       "    </tr>\n",
       "    <tr>\n",
       "      <th>1</th>\n",
       "      <td>60.000000</td>\n",
       "      <td>117.000000</td>\n",
       "      <td>145.000000</td>\n",
       "      <td>479.000000</td>\n",
       "      <td>5/5/1975</td>\n",
       "    </tr>\n",
       "    <tr>\n",
       "      <th>2</th>\n",
       "      <td>60.000000</td>\n",
       "      <td>103.000000</td>\n",
       "      <td>135.000000</td>\n",
       "      <td>340.000000</td>\n",
       "      <td>375.790244</td>\n",
       "    </tr>\n",
       "    <tr>\n",
       "      <th>3</th>\n",
       "      <td>45.000000</td>\n",
       "      <td>109.000000</td>\n",
       "      <td>175.000000</td>\n",
       "      <td>282.400000</td>\n",
       "      <td>5/7/1975</td>\n",
       "    </tr>\n",
       "    <tr>\n",
       "      <th>4</th>\n",
       "      <td>45.000000</td>\n",
       "      <td>117.000000</td>\n",
       "      <td>148.000000</td>\n",
       "      <td>406.000000</td>\n",
       "      <td>9/8/1989</td>\n",
       "    </tr>\n",
       "    <tr>\n",
       "      <th>...</th>\n",
       "      <td>...</td>\n",
       "      <td>...</td>\n",
       "      <td>...</td>\n",
       "      <td>...</td>\n",
       "      <td>...</td>\n",
       "    </tr>\n",
       "    <tr>\n",
       "      <th>306</th>\n",
       "      <td>375.790244</td>\n",
       "      <td>375.790244</td>\n",
       "      <td>375.790244</td>\n",
       "      <td>375.790244</td>\n",
       "      <td>375.790244</td>\n",
       "    </tr>\n",
       "    <tr>\n",
       "      <th>307</th>\n",
       "      <td>375.790244</td>\n",
       "      <td>375.790244</td>\n",
       "      <td>375.790244</td>\n",
       "      <td>375.790244</td>\n",
       "      <td>375.790244</td>\n",
       "    </tr>\n",
       "    <tr>\n",
       "      <th>308</th>\n",
       "      <td>375.790244</td>\n",
       "      <td>375.790244</td>\n",
       "      <td>375.790244</td>\n",
       "      <td>375.790244</td>\n",
       "      <td>375.790244</td>\n",
       "    </tr>\n",
       "    <tr>\n",
       "      <th>309</th>\n",
       "      <td>375.790244</td>\n",
       "      <td>375.790244</td>\n",
       "      <td>375.790244</td>\n",
       "      <td>375.790244</td>\n",
       "      <td>375.790244</td>\n",
       "    </tr>\n",
       "    <tr>\n",
       "      <th>310</th>\n",
       "      <td>375.790244</td>\n",
       "      <td>375.790244</td>\n",
       "      <td>375.790244</td>\n",
       "      <td>375.790244</td>\n",
       "      <td>375.790244</td>\n",
       "    </tr>\n",
       "  </tbody>\n",
       "</table>\n",
       "<p>311 rows × 5 columns</p>\n",
       "</div>"
      ],
      "text/plain": [
       "       Duration       Pulse    Maxpulse    Calories         DOB\n",
       "0     60.000000  110.000000  130.000000  409.100000    5/5/1975\n",
       "1     60.000000  117.000000  145.000000  479.000000    5/5/1975\n",
       "2     60.000000  103.000000  135.000000  340.000000  375.790244\n",
       "3     45.000000  109.000000  175.000000  282.400000    5/7/1975\n",
       "4     45.000000  117.000000  148.000000  406.000000    9/8/1989\n",
       "..          ...         ...         ...         ...         ...\n",
       "306  375.790244  375.790244  375.790244  375.790244  375.790244\n",
       "307  375.790244  375.790244  375.790244  375.790244  375.790244\n",
       "308  375.790244  375.790244  375.790244  375.790244  375.790244\n",
       "309  375.790244  375.790244  375.790244  375.790244  375.790244\n",
       "310  375.790244  375.790244  375.790244  375.790244  375.790244\n",
       "\n",
       "[311 rows x 5 columns]"
      ]
     },
     "execution_count": 128,
     "metadata": {},
     "output_type": "execute_result"
    }
   ],
   "source": [
    "df\n",
    "df1 = df.copy()\n",
    "df1.fillna(df1['Calories'].mean(), inplace = True)\n",
    "df1"
   ]
  },
  {
   "cell_type": "code",
   "execution_count": 131,
   "metadata": {},
   "outputs": [
    {
     "data": {
      "text/html": [
       "<div>\n",
       "<style scoped>\n",
       "    .dataframe tbody tr th:only-of-type {\n",
       "        vertical-align: middle;\n",
       "    }\n",
       "\n",
       "    .dataframe tbody tr th {\n",
       "        vertical-align: top;\n",
       "    }\n",
       "\n",
       "    .dataframe thead th {\n",
       "        text-align: right;\n",
       "    }\n",
       "</style>\n",
       "<table border=\"1\" class=\"dataframe\">\n",
       "  <thead>\n",
       "    <tr style=\"text-align: right;\">\n",
       "      <th></th>\n",
       "      <th>Duration</th>\n",
       "      <th>Pulse</th>\n",
       "      <th>Maxpulse</th>\n",
       "      <th>Calories</th>\n",
       "      <th>DOB</th>\n",
       "    </tr>\n",
       "  </thead>\n",
       "  <tbody>\n",
       "    <tr>\n",
       "      <th>0</th>\n",
       "      <td>60.0</td>\n",
       "      <td>110.0</td>\n",
       "      <td>130.0</td>\n",
       "      <td>409.1</td>\n",
       "      <td>5/5/1975</td>\n",
       "    </tr>\n",
       "    <tr>\n",
       "      <th>1</th>\n",
       "      <td>60.0</td>\n",
       "      <td>117.0</td>\n",
       "      <td>145.0</td>\n",
       "      <td>479.0</td>\n",
       "      <td>5/5/1975</td>\n",
       "    </tr>\n",
       "    <tr>\n",
       "      <th>2</th>\n",
       "      <td>60.0</td>\n",
       "      <td>103.0</td>\n",
       "      <td>135.0</td>\n",
       "      <td>340.0</td>\n",
       "      <td>318.6</td>\n",
       "    </tr>\n",
       "    <tr>\n",
       "      <th>3</th>\n",
       "      <td>45.0</td>\n",
       "      <td>109.0</td>\n",
       "      <td>175.0</td>\n",
       "      <td>282.4</td>\n",
       "      <td>5/7/1975</td>\n",
       "    </tr>\n",
       "    <tr>\n",
       "      <th>4</th>\n",
       "      <td>45.0</td>\n",
       "      <td>117.0</td>\n",
       "      <td>148.0</td>\n",
       "      <td>406.0</td>\n",
       "      <td>9/8/1989</td>\n",
       "    </tr>\n",
       "    <tr>\n",
       "      <th>...</th>\n",
       "      <td>...</td>\n",
       "      <td>...</td>\n",
       "      <td>...</td>\n",
       "      <td>...</td>\n",
       "      <td>...</td>\n",
       "    </tr>\n",
       "    <tr>\n",
       "      <th>306</th>\n",
       "      <td>318.6</td>\n",
       "      <td>318.6</td>\n",
       "      <td>318.6</td>\n",
       "      <td>318.6</td>\n",
       "      <td>318.6</td>\n",
       "    </tr>\n",
       "    <tr>\n",
       "      <th>307</th>\n",
       "      <td>318.6</td>\n",
       "      <td>318.6</td>\n",
       "      <td>318.6</td>\n",
       "      <td>318.6</td>\n",
       "      <td>318.6</td>\n",
       "    </tr>\n",
       "    <tr>\n",
       "      <th>308</th>\n",
       "      <td>318.6</td>\n",
       "      <td>318.6</td>\n",
       "      <td>318.6</td>\n",
       "      <td>318.6</td>\n",
       "      <td>318.6</td>\n",
       "    </tr>\n",
       "    <tr>\n",
       "      <th>309</th>\n",
       "      <td>318.6</td>\n",
       "      <td>318.6</td>\n",
       "      <td>318.6</td>\n",
       "      <td>318.6</td>\n",
       "      <td>318.6</td>\n",
       "    </tr>\n",
       "    <tr>\n",
       "      <th>310</th>\n",
       "      <td>318.6</td>\n",
       "      <td>318.6</td>\n",
       "      <td>318.6</td>\n",
       "      <td>318.6</td>\n",
       "      <td>318.6</td>\n",
       "    </tr>\n",
       "  </tbody>\n",
       "</table>\n",
       "<p>311 rows × 5 columns</p>\n",
       "</div>"
      ],
      "text/plain": [
       "     Duration  Pulse  Maxpulse  Calories       DOB\n",
       "0        60.0  110.0     130.0     409.1  5/5/1975\n",
       "1        60.0  117.0     145.0     479.0  5/5/1975\n",
       "2        60.0  103.0     135.0     340.0     318.6\n",
       "3        45.0  109.0     175.0     282.4  5/7/1975\n",
       "4        45.0  117.0     148.0     406.0  9/8/1989\n",
       "..        ...    ...       ...       ...       ...\n",
       "306     318.6  318.6     318.6     318.6     318.6\n",
       "307     318.6  318.6     318.6     318.6     318.6\n",
       "308     318.6  318.6     318.6     318.6     318.6\n",
       "309     318.6  318.6     318.6     318.6     318.6\n",
       "310     318.6  318.6     318.6     318.6     318.6\n",
       "\n",
       "[311 rows x 5 columns]"
      ]
     },
     "execution_count": 131,
     "metadata": {},
     "output_type": "execute_result"
    }
   ],
   "source": [
    "df1 = df.copy()\n",
    "df1.fillna(df['Calories'].median(), inplace = True)\n",
    "df1"
   ]
  },
  {
   "cell_type": "code",
   "execution_count": 140,
   "metadata": {},
   "outputs": [
    {
     "name": "stdout",
     "output_type": "stream",
     "text": [
      "0    300.0\n",
      "Name: Calories, dtype: float64\n"
     ]
    }
   ],
   "source": [
    "df1 = df.copy()\n",
    "x = df1['Calories'].mode()\n",
    "print(x)"
   ]
  },
  {
   "cell_type": "code",
   "execution_count": 150,
   "metadata": {},
   "outputs": [
    {
     "name": "stdout",
     "output_type": "stream",
     "text": [
      "   Duration  Pulse  Maxpulse  Calories       DOB\n",
      "0      60.0  110.0     130.0     409.1  5/5/1975\n",
      "1      60.0  117.0     145.0     479.0  5/5/1975\n",
      "3      45.0  109.0     175.0     282.4  5/7/1975\n",
      "4      45.0  117.0     148.0     406.0  9/8/1989\n",
      "5      60.0  102.0     127.0     300.0  9/9/1989\n"
     ]
    }
   ],
   "source": [
    "df1 = df.copy()\n",
    "df1.dropna(subset = ['Pulse','DOB'], inplace = True)\n",
    "print(df1.head())"
   ]
  },
  {
   "cell_type": "code",
   "execution_count": 158,
   "metadata": {},
   "outputs": [
    {
     "name": "stdout",
     "output_type": "stream",
     "text": [
      "45.0\n"
     ]
    }
   ],
   "source": [
    "df1 = df.copy()\n",
    "x = df1.loc[4, 'Duration']\n",
    "print(x)"
   ]
  },
  {
   "cell_type": "code",
   "execution_count": 161,
   "metadata": {},
   "outputs": [
    {
     "name": "stdout",
     "output_type": "stream",
     "text": [
      "     Duration  Pulse  Maxpulse  Calories       DOB\n",
      "100      20.0   95.0     112.0      77.7  6/1/1964\n",
      "101      90.0   90.0     110.0     500.0  3/2/1980\n",
      "102      90.0   90.0     100.0     500.0  3/3/1980\n",
      "103      90.0   90.0     100.0     500.4  3/4/1980\n",
      "104      30.0   92.0     108.0      92.7  8/9/1983\n",
      "..        ...    ...       ...       ...       ...\n",
      "306       NaN    NaN       NaN       NaN       NaN\n",
      "307       NaN    NaN       NaN       NaN       NaN\n",
      "308       NaN    NaN       NaN       NaN       NaN\n",
      "309       NaN    NaN       NaN       NaN       NaN\n",
      "310       NaN    NaN       NaN       NaN       NaN\n",
      "\n",
      "[211 rows x 5 columns]\n"
     ]
    }
   ],
   "source": [
    "print(df.iloc[100:])"
   ]
  },
  {
   "cell_type": "code",
   "execution_count": 165,
   "metadata": {},
   "outputs": [
    {
     "data": {
      "text/html": [
       "<div>\n",
       "<style scoped>\n",
       "    .dataframe tbody tr th:only-of-type {\n",
       "        vertical-align: middle;\n",
       "    }\n",
       "\n",
       "    .dataframe tbody tr th {\n",
       "        vertical-align: top;\n",
       "    }\n",
       "\n",
       "    .dataframe thead th {\n",
       "        text-align: right;\n",
       "    }\n",
       "</style>\n",
       "<table border=\"1\" class=\"dataframe\">\n",
       "  <thead>\n",
       "    <tr style=\"text-align: right;\">\n",
       "      <th></th>\n",
       "      <th>Duration</th>\n",
       "      <th>Pulse</th>\n",
       "      <th>Maxpulse</th>\n",
       "      <th>Calories</th>\n",
       "      <th>DOB</th>\n",
       "    </tr>\n",
       "  </thead>\n",
       "  <tbody>\n",
       "    <tr>\n",
       "      <th>0</th>\n",
       "      <td>60.0</td>\n",
       "      <td>110.0</td>\n",
       "      <td>130.0</td>\n",
       "      <td>409.1</td>\n",
       "      <td>5/5/1975</td>\n",
       "    </tr>\n",
       "    <tr>\n",
       "      <th>1</th>\n",
       "      <td>60.0</td>\n",
       "      <td>117.0</td>\n",
       "      <td>145.0</td>\n",
       "      <td>479.0</td>\n",
       "      <td>5/5/1975</td>\n",
       "    </tr>\n",
       "    <tr>\n",
       "      <th>2</th>\n",
       "      <td>60.0</td>\n",
       "      <td>103.0</td>\n",
       "      <td>135.0</td>\n",
       "      <td>340.0</td>\n",
       "      <td>NaN</td>\n",
       "    </tr>\n",
       "    <tr>\n",
       "      <th>3</th>\n",
       "      <td>45.0</td>\n",
       "      <td>109.0</td>\n",
       "      <td>175.0</td>\n",
       "      <td>282.4</td>\n",
       "      <td>5/7/1975</td>\n",
       "    </tr>\n",
       "    <tr>\n",
       "      <th>4</th>\n",
       "      <td>45.0</td>\n",
       "      <td>117.0</td>\n",
       "      <td>148.0</td>\n",
       "      <td>406.0</td>\n",
       "      <td>9/8/1989</td>\n",
       "    </tr>\n",
       "    <tr>\n",
       "      <th>...</th>\n",
       "      <td>...</td>\n",
       "      <td>...</td>\n",
       "      <td>...</td>\n",
       "      <td>...</td>\n",
       "      <td>...</td>\n",
       "    </tr>\n",
       "    <tr>\n",
       "      <th>165</th>\n",
       "      <td>60.0</td>\n",
       "      <td>110.0</td>\n",
       "      <td>145.0</td>\n",
       "      <td>300.0</td>\n",
       "      <td>4/5/1987</td>\n",
       "    </tr>\n",
       "    <tr>\n",
       "      <th>166</th>\n",
       "      <td>60.0</td>\n",
       "      <td>115.0</td>\n",
       "      <td>145.0</td>\n",
       "      <td>310.2</td>\n",
       "      <td>4/6/1987</td>\n",
       "    </tr>\n",
       "    <tr>\n",
       "      <th>167</th>\n",
       "      <td>75.0</td>\n",
       "      <td>120.0</td>\n",
       "      <td>150.0</td>\n",
       "      <td>320.4</td>\n",
       "      <td>4/7/1987</td>\n",
       "    </tr>\n",
       "    <tr>\n",
       "      <th>168</th>\n",
       "      <td>75.0</td>\n",
       "      <td>125.0</td>\n",
       "      <td>150.0</td>\n",
       "      <td>330.4</td>\n",
       "      <td>4/8/1987</td>\n",
       "    </tr>\n",
       "    <tr>\n",
       "      <th>169</th>\n",
       "      <td>NaN</td>\n",
       "      <td>NaN</td>\n",
       "      <td>NaN</td>\n",
       "      <td>NaN</td>\n",
       "      <td>NaN</td>\n",
       "    </tr>\n",
       "  </tbody>\n",
       "</table>\n",
       "<p>170 rows × 5 columns</p>\n",
       "</div>"
      ],
      "text/plain": [
       "     Duration  Pulse  Maxpulse  Calories       DOB\n",
       "0        60.0  110.0     130.0     409.1  5/5/1975\n",
       "1        60.0  117.0     145.0     479.0  5/5/1975\n",
       "2        60.0  103.0     135.0     340.0       NaN\n",
       "3        45.0  109.0     175.0     282.4  5/7/1975\n",
       "4        45.0  117.0     148.0     406.0  9/8/1989\n",
       "..        ...    ...       ...       ...       ...\n",
       "165      60.0  110.0     145.0     300.0  4/5/1987\n",
       "166      60.0  115.0     145.0     310.2  4/6/1987\n",
       "167      75.0  120.0     150.0     320.4  4/7/1987\n",
       "168      75.0  125.0     150.0     330.4  4/8/1987\n",
       "169       NaN    NaN       NaN       NaN       NaN\n",
       "\n",
       "[170 rows x 5 columns]"
      ]
     },
     "execution_count": 165,
     "metadata": {},
     "output_type": "execute_result"
    }
   ],
   "source": [
    "df.drop_duplicates(inplace = True)\n",
    "df"
   ]
  }
 ],
 "metadata": {
  "kernelspec": {
   "display_name": "Python 3.10.6 64-bit",
   "language": "python",
   "name": "python3"
  },
  "language_info": {
   "codemirror_mode": {
    "name": "ipython",
    "version": 3
   },
   "file_extension": ".py",
   "mimetype": "text/x-python",
   "name": "python",
   "nbconvert_exporter": "python",
   "pygments_lexer": "ipython3",
   "version": "3.10.6"
  },
  "orig_nbformat": 4,
  "vscode": {
   "interpreter": {
    "hash": "26de051ba29f2982a8de78e945f0abaf191376122a1563185a90213a26c5da77"
   }
  }
 },
 "nbformat": 4,
 "nbformat_minor": 2
}
